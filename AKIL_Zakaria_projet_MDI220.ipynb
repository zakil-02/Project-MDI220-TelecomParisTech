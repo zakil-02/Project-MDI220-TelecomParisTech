{
 "cells": [
  {
   "cell_type": "markdown",
   "id": "528c4397",
   "metadata": {},
   "source": [
    "# MDI220\n",
    "# Statistiques\n",
    "\n",
    "# Mini-project "
   ]
  },
  {
   "cell_type": "markdown",
   "id": "9f9f9769",
   "metadata": {},
   "source": [
    "Ce mini-projet est pour le cours Statistiques MDI220.\n",
    "\n",
    "Vous devez remplir ce notebook et le uploader sur eCampus, **avec les figures**. S'il vous plaît, assurez-vous que le notebook s'execute **sans erreurs**.\n",
    "\n",
    "Vous pouvez accomplir ce projet en français ou en anglais (votre préférence).\n",
    "\n",
    "Vous pouvez travailler en equipe, mais le notebook final, compris le texte et le code, doit être **votre propre**. Plagiat entre les étudiants est strictement interdit.\n",
    "\n",
    "S'il vous plaît, donner **la réponse concise** et **le code concis**, avec des commentaires ou approprié.\n",
    "\n",
    "(Re)nommer le fichier de ce notebook dans le format suivant : \"NOM_Prenom_projet_MDI220.ipynb\"."
   ]
  },
  {
   "cell_type": "markdown",
   "id": "ca534555",
   "metadata": {},
   "source": [
    "## Zakaria Akil:"
   ]
  },
  {
   "cell_type": "markdown",
   "id": "986d36a8",
   "metadata": {},
   "source": [
    "## Imports"
   ]
  },
  {
   "cell_type": "markdown",
   "id": "f30a6df8",
   "metadata": {},
   "source": [
    "S'il vous plaît, **n'importez pas** d'autres librairies."
   ]
  },
  {
   "cell_type": "code",
   "execution_count": 269,
   "id": "d453a573",
   "metadata": {},
   "outputs": [],
   "source": [
    "import numpy as np\n",
    "import pandas as pd\n",
    "import matplotlib.pyplot as plt"
   ]
  },
  {
   "cell_type": "code",
   "execution_count": 270,
   "id": "18e10613",
   "metadata": {},
   "outputs": [],
   "source": [
    "from scipy.stats import norm, chi2, gaussian_kde"
   ]
  },
  {
   "cell_type": "code",
   "execution_count": 271,
   "id": "2e543f41",
   "metadata": {},
   "outputs": [],
   "source": [
    "import seaborn as sns"
   ]
  },
  {
   "cell_type": "markdown",
   "id": "150efe52",
   "metadata": {},
   "source": [
    "## Données"
   ]
  },
  {
   "cell_type": "markdown",
   "id": "a447bd21",
   "metadata": {},
   "source": [
    "Nous considérons les données de **consomation quotidienne d'electricité** (en MW) en France dans le période 2013-2023. Les données sont accessibles sur **eCampus**.\n",
    "\n",
    "Les informationnes détaillées sur les données sont accessible [ici](https://www.data.gouv.fr/fr/datasets/consommation-quotidienne-brute-regionale/)."
   ]
  },
  {
   "cell_type": "code",
   "execution_count": 272,
   "id": "a5379d2c",
   "metadata": {},
   "outputs": [],
   "source": [
    "# do not modify this cell\n",
    "filename = 'power_consumption.csv'\n",
    "df = pd.read_csv(filename)"
   ]
  },
  {
   "cell_type": "code",
   "execution_count": 273,
   "id": "c67ea70e",
   "metadata": {},
   "outputs": [
    {
     "data": {
      "text/html": [
       "<div>\n",
       "<style scoped>\n",
       "    .dataframe tbody tr th:only-of-type {\n",
       "        vertical-align: middle;\n",
       "    }\n",
       "\n",
       "    .dataframe tbody tr th {\n",
       "        vertical-align: top;\n",
       "    }\n",
       "\n",
       "    .dataframe thead th {\n",
       "        text-align: right;\n",
       "    }\n",
       "</style>\n",
       "<table border=\"1\" class=\"dataframe\">\n",
       "  <thead>\n",
       "    <tr style=\"text-align: right;\">\n",
       "      <th></th>\n",
       "      <th>region</th>\n",
       "      <th>date</th>\n",
       "      <th>consumption</th>\n",
       "    </tr>\n",
       "  </thead>\n",
       "  <tbody>\n",
       "    <tr>\n",
       "      <th>0</th>\n",
       "      <td>Auvergne-Rhône-Alpes</td>\n",
       "      <td>2013-01-01</td>\n",
       "      <td>7560</td>\n",
       "    </tr>\n",
       "    <tr>\n",
       "      <th>1</th>\n",
       "      <td>Auvergne-Rhône-Alpes</td>\n",
       "      <td>2013-01-02</td>\n",
       "      <td>8700</td>\n",
       "    </tr>\n",
       "    <tr>\n",
       "      <th>2</th>\n",
       "      <td>Auvergne-Rhône-Alpes</td>\n",
       "      <td>2013-01-03</td>\n",
       "      <td>9367</td>\n",
       "    </tr>\n",
       "    <tr>\n",
       "      <th>3</th>\n",
       "      <td>Auvergne-Rhône-Alpes</td>\n",
       "      <td>2013-01-04</td>\n",
       "      <td>9133</td>\n",
       "    </tr>\n",
       "    <tr>\n",
       "      <th>4</th>\n",
       "      <td>Auvergne-Rhône-Alpes</td>\n",
       "      <td>2013-01-05</td>\n",
       "      <td>8283</td>\n",
       "    </tr>\n",
       "  </tbody>\n",
       "</table>\n",
       "</div>"
      ],
      "text/plain": [
       "                 region        date  consumption\n",
       "0  Auvergne-Rhône-Alpes  2013-01-01         7560\n",
       "1  Auvergne-Rhône-Alpes  2013-01-02         8700\n",
       "2  Auvergne-Rhône-Alpes  2013-01-03         9367\n",
       "3  Auvergne-Rhône-Alpes  2013-01-04         9133\n",
       "4  Auvergne-Rhône-Alpes  2013-01-05         8283"
      ]
     },
     "execution_count": 273,
     "metadata": {},
     "output_type": "execute_result"
    }
   ],
   "source": [
    "df.head()"
   ]
  },
  {
   "cell_type": "code",
   "execution_count": 274,
   "id": "9e299cd9",
   "metadata": {},
   "outputs": [],
   "source": [
    "regions = list(df.region.unique())"
   ]
  },
  {
   "cell_type": "code",
   "execution_count": 275,
   "id": "907ac06f",
   "metadata": {},
   "outputs": [
    {
     "data": {
      "text/plain": [
       "['Auvergne-Rhône-Alpes',\n",
       " 'Bourgogne-Franche-Comté',\n",
       " 'Bretagne',\n",
       " 'Centre-Val de Loire',\n",
       " 'Grand Est',\n",
       " 'Hauts-de-France',\n",
       " 'Normandie',\n",
       " 'Nouvelle-Aquitaine',\n",
       " 'Occitanie',\n",
       " 'Pays de la Loire',\n",
       " \"Provence-Alpes-Côte d'Azur\",\n",
       " 'Île-de-France']"
      ]
     },
     "execution_count": 275,
     "metadata": {},
     "output_type": "execute_result"
    }
   ],
   "source": [
    "regions"
   ]
  },
  {
   "cell_type": "code",
   "execution_count": 276,
   "id": "2e2704da",
   "metadata": {},
   "outputs": [
    {
     "data": {
      "text/html": [
       "<div>\n",
       "<style scoped>\n",
       "    .dataframe tbody tr th:only-of-type {\n",
       "        vertical-align: middle;\n",
       "    }\n",
       "\n",
       "    .dataframe tbody tr th {\n",
       "        vertical-align: top;\n",
       "    }\n",
       "\n",
       "    .dataframe thead th {\n",
       "        text-align: right;\n",
       "    }\n",
       "</style>\n",
       "<table border=\"1\" class=\"dataframe\">\n",
       "  <thead>\n",
       "    <tr style=\"text-align: right;\">\n",
       "      <th></th>\n",
       "      <th>consumption</th>\n",
       "    </tr>\n",
       "    <tr>\n",
       "      <th>region</th>\n",
       "      <th></th>\n",
       "    </tr>\n",
       "  </thead>\n",
       "  <tbody>\n",
       "    <tr>\n",
       "      <th>Auvergne-Rhône-Alpes</th>\n",
       "      <td>7495</td>\n",
       "    </tr>\n",
       "    <tr>\n",
       "      <th>Bourgogne-Franche-Comté</th>\n",
       "      <td>2416</td>\n",
       "    </tr>\n",
       "    <tr>\n",
       "      <th>Bretagne</th>\n",
       "      <td>2546</td>\n",
       "    </tr>\n",
       "    <tr>\n",
       "      <th>Centre-Val de Loire</th>\n",
       "      <td>2139</td>\n",
       "    </tr>\n",
       "    <tr>\n",
       "      <th>Grand Est</th>\n",
       "      <td>5155</td>\n",
       "    </tr>\n",
       "    <tr>\n",
       "      <th>Hauts-de-France</th>\n",
       "      <td>5726</td>\n",
       "    </tr>\n",
       "    <tr>\n",
       "      <th>Normandie</th>\n",
       "      <td>3168</td>\n",
       "    </tr>\n",
       "    <tr>\n",
       "      <th>Nouvelle-Aquitaine</th>\n",
       "      <td>4925</td>\n",
       "    </tr>\n",
       "    <tr>\n",
       "      <th>Occitanie</th>\n",
       "      <td>4266</td>\n",
       "    </tr>\n",
       "    <tr>\n",
       "      <th>Pays de la Loire</th>\n",
       "      <td>3077</td>\n",
       "    </tr>\n",
       "    <tr>\n",
       "      <th>Provence-Alpes-Côte d'Azur</th>\n",
       "      <td>4656</td>\n",
       "    </tr>\n",
       "    <tr>\n",
       "      <th>Île-de-France</th>\n",
       "      <td>8008</td>\n",
       "    </tr>\n",
       "  </tbody>\n",
       "</table>\n",
       "</div>"
      ],
      "text/plain": [
       "                            consumption\n",
       "region                                 \n",
       "Auvergne-Rhône-Alpes               7495\n",
       "Bourgogne-Franche-Comté            2416\n",
       "Bretagne                           2546\n",
       "Centre-Val de Loire                2139\n",
       "Grand Est                          5155\n",
       "Hauts-de-France                    5726\n",
       "Normandie                          3168\n",
       "Nouvelle-Aquitaine                 4925\n",
       "Occitanie                          4266\n",
       "Pays de la Loire                   3077\n",
       "Provence-Alpes-Côte d'Azur         4656\n",
       "Île-de-France                      8008"
      ]
     },
     "execution_count": 276,
     "metadata": {},
     "output_type": "execute_result"
    }
   ],
   "source": [
    "# average consumption per region\n",
    "df[[\"region\", \"consumption\"]].groupby(\"region\").mean().astype(int)"
   ]
  },
  {
   "cell_type": "code",
   "execution_count": 277,
   "id": "3ed15bbc",
   "metadata": {},
   "outputs": [
    {
     "data": {
      "text/plain": [
       "consumption    53582\n",
       "dtype: int32"
      ]
     },
     "execution_count": 277,
     "metadata": {},
     "output_type": "execute_result"
    }
   ],
   "source": [
    "# average consumption in France (MW)\n",
    "df[[\"region\", \"consumption\"]].groupby(\"region\").mean().sum().astype(int)"
   ]
  },
  {
   "cell_type": "code",
   "execution_count": 278,
   "id": "2ebdd086",
   "metadata": {},
   "outputs": [],
   "source": [
    "# selection of a region\n",
    "region = \"Bretagne\"\n",
    "df_region = df[df.region == region]"
   ]
  },
  {
   "cell_type": "code",
   "execution_count": 279,
   "id": "df7e8114",
   "metadata": {},
   "outputs": [
    {
     "data": {
      "text/html": [
       "<div>\n",
       "<style scoped>\n",
       "    .dataframe tbody tr th:only-of-type {\n",
       "        vertical-align: middle;\n",
       "    }\n",
       "\n",
       "    .dataframe tbody tr th {\n",
       "        vertical-align: top;\n",
       "    }\n",
       "\n",
       "    .dataframe thead th {\n",
       "        text-align: right;\n",
       "    }\n",
       "</style>\n",
       "<table border=\"1\" class=\"dataframe\">\n",
       "  <thead>\n",
       "    <tr style=\"text-align: right;\">\n",
       "      <th></th>\n",
       "      <th>region</th>\n",
       "      <th>date</th>\n",
       "      <th>consumption</th>\n",
       "    </tr>\n",
       "  </thead>\n",
       "  <tbody>\n",
       "    <tr>\n",
       "      <th>7606</th>\n",
       "      <td>Bretagne</td>\n",
       "      <td>2013-01-01</td>\n",
       "      <td>2595</td>\n",
       "    </tr>\n",
       "    <tr>\n",
       "      <th>7607</th>\n",
       "      <td>Bretagne</td>\n",
       "      <td>2013-01-02</td>\n",
       "      <td>3195</td>\n",
       "    </tr>\n",
       "    <tr>\n",
       "      <th>7608</th>\n",
       "      <td>Bretagne</td>\n",
       "      <td>2013-01-03</td>\n",
       "      <td>3157</td>\n",
       "    </tr>\n",
       "    <tr>\n",
       "      <th>7609</th>\n",
       "      <td>Bretagne</td>\n",
       "      <td>2013-01-04</td>\n",
       "      <td>3142</td>\n",
       "    </tr>\n",
       "    <tr>\n",
       "      <th>7610</th>\n",
       "      <td>Bretagne</td>\n",
       "      <td>2013-01-05</td>\n",
       "      <td>2859</td>\n",
       "    </tr>\n",
       "  </tbody>\n",
       "</table>\n",
       "</div>"
      ],
      "text/plain": [
       "        region        date  consumption\n",
       "7606  Bretagne  2013-01-01         2595\n",
       "7607  Bretagne  2013-01-02         3195\n",
       "7608  Bretagne  2013-01-03         3157\n",
       "7609  Bretagne  2013-01-04         3142\n",
       "7610  Bretagne  2013-01-05         2859"
      ]
     },
     "execution_count": 279,
     "metadata": {},
     "output_type": "execute_result"
    }
   ],
   "source": [
    "df_region.head()"
   ]
  },
  {
   "cell_type": "code",
   "execution_count": 280,
   "id": "fd6fa7dc",
   "metadata": {},
   "outputs": [
    {
     "data": {
      "text/html": [
       "<div>\n",
       "<style scoped>\n",
       "    .dataframe tbody tr th:only-of-type {\n",
       "        vertical-align: middle;\n",
       "    }\n",
       "\n",
       "    .dataframe tbody tr th {\n",
       "        vertical-align: top;\n",
       "    }\n",
       "\n",
       "    .dataframe thead th {\n",
       "        text-align: right;\n",
       "    }\n",
       "</style>\n",
       "<table border=\"1\" class=\"dataframe\">\n",
       "  <thead>\n",
       "    <tr style=\"text-align: right;\">\n",
       "      <th></th>\n",
       "      <th>region</th>\n",
       "      <th>date</th>\n",
       "      <th>consumption</th>\n",
       "    </tr>\n",
       "  </thead>\n",
       "  <tbody>\n",
       "    <tr>\n",
       "      <th>7606</th>\n",
       "      <td>Bretagne</td>\n",
       "      <td>2013-01-01</td>\n",
       "      <td>2595</td>\n",
       "    </tr>\n",
       "    <tr>\n",
       "      <th>7607</th>\n",
       "      <td>Bretagne</td>\n",
       "      <td>2013-01-02</td>\n",
       "      <td>3195</td>\n",
       "    </tr>\n",
       "    <tr>\n",
       "      <th>7608</th>\n",
       "      <td>Bretagne</td>\n",
       "      <td>2013-01-03</td>\n",
       "      <td>3157</td>\n",
       "    </tr>\n",
       "    <tr>\n",
       "      <th>7609</th>\n",
       "      <td>Bretagne</td>\n",
       "      <td>2013-01-04</td>\n",
       "      <td>3142</td>\n",
       "    </tr>\n",
       "    <tr>\n",
       "      <th>7610</th>\n",
       "      <td>Bretagne</td>\n",
       "      <td>2013-01-05</td>\n",
       "      <td>2859</td>\n",
       "    </tr>\n",
       "  </tbody>\n",
       "</table>\n",
       "</div>"
      ],
      "text/plain": [
       "        region        date  consumption\n",
       "7606  Bretagne  2013-01-01         2595\n",
       "7607  Bretagne  2013-01-02         3195\n",
       "7608  Bretagne  2013-01-03         3157\n",
       "7609  Bretagne  2013-01-04         3142\n",
       "7610  Bretagne  2013-01-05         2859"
      ]
     },
     "execution_count": 280,
     "metadata": {},
     "output_type": "execute_result"
    }
   ],
   "source": [
    "df_region.head()"
   ]
  },
  {
   "cell_type": "code",
   "execution_count": 281,
   "id": "bbb87de5",
   "metadata": {},
   "outputs": [
    {
     "data": {
      "image/png": "[encoded data removed]",
      "text/plain": [
       "<Figure size 640x480 with 1 Axes>"
      ]
     },
     "metadata": {},
     "output_type": "display_data"
    }
   ],
   "source": [
    "# density (with kde = kernel density estimation)\n",
    "sns.kdeplot(data=df_region, x=\"consumption\", label=\"Data\", color='blue', fill=True)\n",
    "plt.title(region)\n",
    "plt.xlabel(\"Consumption (MW)\")\n",
    "plt.legend() \n",
    "plt.show()"
   ]
  },
  {
   "cell_type": "markdown",
   "id": "045ae627",
   "metadata": {},
   "source": [
    "## A. Estimation ponctuelle"
   ]
  },
  {
   "cell_type": "markdown",
   "id": "99972e6a",
   "metadata": {},
   "source": [
    "Dans l'entité du projet, consomation quotidienne d'electricité est supposée i.i.d., avec la distribution gaussienne.\n",
    "\n",
    "Nous allons utiliser les estimateurs suivants pour la moyenne et la variance, pour $n$ observations $x_1,\\ldots,x_n$ :\n",
    "$$\n",
    "\\hat \\mu = \\frac 1 n \\sum_{i=1}^n x_i\\quad \\hat{\\sigma^2} = \\frac 1 {n-1}\\sum_{i=1}^n (x_i - \\hat \\mu)^2\n",
    "$$\n",
    "L'estimateur correspondant de l'écart-type est :\n",
    "$$\n",
    "\\hat \\sigma = \\sqrt{\\hat{\\sigma^2}}\n",
    "$$\n",
    "\n",
    "Considérons la region Bretagne. \n",
    "\n",
    "1. Montrez que les estimateur pour la moyenne et la variance sont sans biais."
   ]
  },
  {
   "cell_type": "markdown",
   "id": "fc43c835",
   "metadata": {},
   "source": [
    "Votre réponse :"
   ]
  },
  {
   "cell_type": "markdown",
   "id": "120dd033",
   "metadata": {},
   "source": [
    "- Pour l'estimateur de moyenne : \n",
    "$$\n",
    "\\mathbb E[\\hat \\mu] = \\mathbb E[\\frac 1 n \\sum_{i=1}^n x_i\\quad \\hat{\\sigma^2}] = \\frac 1 n \\sum_{i=1}^n \\mathbb E[x_i] =  \\frac 1 n \\sum_{i=1}^n \\mathbb \\mu = \\mu\n",
    "$$\n",
    "\n",
    "- Pour l'estimateur de variance : \n",
    "$$\n",
    "\\mathbb E[\\hat{\\sigma^2}] = \\frac 1 {n-1}\\sum_{i=1}^n \\mathbb E[(x_i - \\hat \\mu)^2] = \\frac 1 {n-1}\\sum_{i=1}^n \\mathbb E[x_i^2 - 2\\hat \\mu x_i +\\hat \\mu^2] = \\frac 1 {n-1}\\sum_{i=1}^n \\mathbb E[x_i^2] - 2 \\mathbb E[\\hat \\mu x_i] +\\mathbb E[\\hat \\mu^2]  = \\frac 1 {n-1}\\sum_{i=1}^n \\mathbb Var(x_i)+\\mathbb E[x_i]^2 - \\frac{2(n-1)}{n} \\mu^2 -  \\frac{2}{n}\\mathbb E[x_i^2] +\\mathbb Var(\\hat \\mu)+\\mathbb E[\\hat \\mu]^2 = \\frac 1 {n-1}\\sum_{i=1}^n [\\frac{n-1}{n}\\sigma^2 +(2-\\frac{2(n-1)}{n}-\\frac{2}{n})\\mu^2] \n",
    "$$\n",
    "Donc :\n",
    "$$\n",
    " \\mathbb E[\\hat{\\sigma^2}] = \\frac 1 {n-1}\\sum_{i=1}^n \\frac{n-1}{n}\\sigma^2 = \\sigma^2\n",
    "$$\n",
    "- **Conclusion** : Les deux estimateurs sont des estimateurs sans biais "
   ]
  },
  {
   "cell_type": "markdown",
   "id": "259c0fed",
   "metadata": {},
   "source": [
    "2. Donnez les valeurs obtenues pour la moyen et pour la variance en utilisant ces estimateurs."
   ]
  },
  {
   "cell_type": "code",
   "execution_count": 282,
   "id": "d51c8554",
   "metadata": {},
   "outputs": [],
   "source": [
    "def mean_estimator(X):\n",
    "    mean = 0 \n",
    "    n=len(X)\n",
    "    for i in range(n):\n",
    "        mean += X[i]\n",
    "\n",
    "    mean /= n    \n",
    "    return mean\n",
    "\n",
    "def var_estimator(X):\n",
    "    mu_hat = mean_estimator(X)\n",
    "    sigma_sq=0\n",
    "    n=len(X)\n",
    "    for i in range(n):\n",
    "        sigma_sq += (X[i] - mu_hat)**2\n",
    "    sigma_sq /=(n-1)\n",
    "    return sigma_sq\n",
    "\n",
    "def stdv_estimator(X):\n",
    "    sigma = np.sqrt(var_estimator(X))\n",
    "    return sigma"
   ]
  },
  {
   "cell_type": "code",
   "execution_count": 283,
   "id": "399f1d9d",
   "metadata": {},
   "outputs": [
    {
     "name": "stdout",
     "output_type": "stream",
     "text": [
      "Pour la region bretagne: --------------------------------------------\n",
      "mu= 2546.536155666579\n",
      "\n",
      "Var= 365956.01414481626\n",
      "\n",
      "sigma= 604.9429842099305\n"
     ]
    }
   ],
   "source": [
    "print(\"Pour la region bretagne: --------------------------------------------\")\n",
    "mu=mean_estimator(list(df_region[\"consumption\"]))\n",
    "var=var_estimator(list(df_region[\"consumption\"]))\n",
    "stdv=stdv_estimator(list(df_region[\"consumption\"]))\n",
    "print(\"mu=\", mu)\n",
    "print(\"\\nVar=\", var)\n",
    "print(\"\\nsigma=\", stdv)"
   ]
  },
  {
   "cell_type": "markdown",
   "id": "d0c9e4bf",
   "metadata": {},
   "source": [
    "3. Générez les nouvelles données en utilisant le modèle gaussien avec ces estimateurs, et avec le même nombre d'observations."
   ]
  },
  {
   "cell_type": "code",
   "execution_count": 284,
   "id": "baedf3c5",
   "metadata": {},
   "outputs": [
    {
     "name": "stdout",
     "output_type": "stream",
     "text": [
      "Le vecteur des estimations : [3040.99308211 3033.22662757 2495.07652885 ... 2573.52382611 1206.88312359\n",
      " 1548.00459193]\n"
     ]
    },
    {
     "name": "stderr",
     "output_type": "stream",
     "text": [
      "C:\\Users\\akilh\\AppData\\Local\\Temp\\ipykernel_9044\\542983701.py:2: SettingWithCopyWarning: \n",
      "A value is trying to be set on a copy of a slice from a DataFrame.\n",
      "Try using .loc[row_indexer,col_indexer] = value instead\n",
      "\n",
      "See the caveats in the documentation: https://pandas.pydata.org/pandas-docs/stable/user_guide/indexing.html#returning-a-view-versus-a-copy\n",
      "  df_region.loc[:, \"estimated_consumption\"] = list(est_consumption)\n"
     ]
    }
   ],
   "source": [
    "est_consumption = np.random.normal(mu, stdv, df_region.shape[0])\n",
    "df_region.loc[:, \"estimated_consumption\"] = list(est_consumption)\n",
    "print(\"Le vecteur des estimations :\", est_consumption)\n"
   ]
  },
  {
   "cell_type": "markdown",
   "id": "87a6506c",
   "metadata": {},
   "source": [
    "4. Tracez l'estimateur à noyau de la densité  *kde* (kernel density estimate) des données réelles et des données générées sur la même figure."
   ]
  },
  {
   "cell_type": "code",
   "execution_count": 285,
   "id": "4bfd9db4",
   "metadata": {},
   "outputs": [
    {
     "data": {
      "image/png": "[encoded data removed]",
      "text/plain": [
       "<Figure size 640x480 with 1 Axes>"
      ]
     },
     "metadata": {},
     "output_type": "display_data"
    }
   ],
   "source": [
    "# density (with kde = kernel density estimation)\n",
    "sns.kdeplot(data=df_region, x=\"consumption\", label=\"Data\", color='pink', fill=True)\n",
    "sns.kdeplot(data=df_region, x=\"estimated_consumption\", label=\"Data_estimated\", color='blue', fill=True)\n",
    "\n",
    "plt.title(region + \" Estimated Consumption (MW)\")\n",
    "plt.xlabel(\"Consumption (MW)\")\n",
    "plt.legend() \n",
    "plt.show()"
   ]
  },
  {
   "cell_type": "markdown",
   "id": "fc054c89",
   "metadata": {},
   "source": [
    "5. Répétez la même procédure pour les jours d'hiver (du 22/12 au 21/03), après avoir mis à jour le modèle."
   ]
  },
  {
   "cell_type": "code",
   "execution_count": 286,
   "id": "c2308284",
   "metadata": {},
   "outputs": [],
   "source": [
    "df_region.head()\n",
    "df_region1=df_region"
   ]
  },
  {
   "cell_type": "code",
   "execution_count": 287,
   "id": "5342f976",
   "metadata": {},
   "outputs": [],
   "source": [
    "# selection of a region\n",
    "region = \"Bretagne\"\n",
    "df_region = df[df.region == region]"
   ]
  },
  {
   "cell_type": "code",
   "execution_count": 288,
   "id": "5a67eb62",
   "metadata": {},
   "outputs": [
    {
     "name": "stderr",
     "output_type": "stream",
     "text": [
      "C:\\Users\\akilh\\AppData\\Local\\Temp\\ipykernel_9044\\528059263.py:1: SettingWithCopyWarning: \n",
      "A value is trying to be set on a copy of a slice from a DataFrame.\n",
      "Try using .loc[row_indexer,col_indexer] = value instead\n",
      "\n",
      "See the caveats in the documentation: https://pandas.pydata.org/pandas-docs/stable/user_guide/indexing.html#returning-a-view-versus-a-copy\n",
      "  df_region[\"date\"] = pd.to_datetime(df_region[\"date\"], format=\"%Y-%m-%d\")\n"
     ]
    }
   ],
   "source": [
    "df_region[\"date\"] = pd.to_datetime(df_region[\"date\"], format=\"%Y-%m-%d\")\n",
    "# mask\n",
    "mask = ((df_region[\"date\"].dt.month == 12) & (df_region[\"date\"].dt.day >= 22)) | \\\n",
    "       ((df_region[\"date\"].dt.month == 3) & (df_region[\"date\"].dt.day <= 21)) | \\\n",
    "       (df_region[\"date\"].dt.month == 1) | (df_region[\"date\"].dt.month == 2)\n",
    "\n",
    "# filter\n",
    "df_region_hivers = df_region[mask]"
   ]
  },
  {
   "cell_type": "code",
   "execution_count": 289,
   "id": "a42a252d",
   "metadata": {},
   "outputs": [
    {
     "data": {
      "text/html": [
       "<div>\n",
       "<style scoped>\n",
       "    .dataframe tbody tr th:only-of-type {\n",
       "        vertical-align: middle;\n",
       "    }\n",
       "\n",
       "    .dataframe tbody tr th {\n",
       "        vertical-align: top;\n",
       "    }\n",
       "\n",
       "    .dataframe thead th {\n",
       "        text-align: right;\n",
       "    }\n",
       "</style>\n",
       "<table border=\"1\" class=\"dataframe\">\n",
       "  <thead>\n",
       "    <tr style=\"text-align: right;\">\n",
       "      <th></th>\n",
       "      <th>region</th>\n",
       "      <th>date</th>\n",
       "      <th>consumption</th>\n",
       "    </tr>\n",
       "  </thead>\n",
       "  <tbody>\n",
       "    <tr>\n",
       "      <th>7606</th>\n",
       "      <td>Bretagne</td>\n",
       "      <td>2013-01-01</td>\n",
       "      <td>2595</td>\n",
       "    </tr>\n",
       "    <tr>\n",
       "      <th>7607</th>\n",
       "      <td>Bretagne</td>\n",
       "      <td>2013-01-02</td>\n",
       "      <td>3195</td>\n",
       "    </tr>\n",
       "    <tr>\n",
       "      <th>7608</th>\n",
       "      <td>Bretagne</td>\n",
       "      <td>2013-01-03</td>\n",
       "      <td>3157</td>\n",
       "    </tr>\n",
       "    <tr>\n",
       "      <th>7609</th>\n",
       "      <td>Bretagne</td>\n",
       "      <td>2013-01-04</td>\n",
       "      <td>3142</td>\n",
       "    </tr>\n",
       "    <tr>\n",
       "      <th>7610</th>\n",
       "      <td>Bretagne</td>\n",
       "      <td>2013-01-05</td>\n",
       "      <td>2859</td>\n",
       "    </tr>\n",
       "    <tr>\n",
       "      <th>...</th>\n",
       "      <td>...</td>\n",
       "      <td>...</td>\n",
       "      <td>...</td>\n",
       "    </tr>\n",
       "    <tr>\n",
       "      <th>11404</th>\n",
       "      <td>Bretagne</td>\n",
       "      <td>2023-05-27</td>\n",
       "      <td>1761</td>\n",
       "    </tr>\n",
       "    <tr>\n",
       "      <th>11405</th>\n",
       "      <td>Bretagne</td>\n",
       "      <td>2023-05-28</td>\n",
       "      <td>1610</td>\n",
       "    </tr>\n",
       "    <tr>\n",
       "      <th>11406</th>\n",
       "      <td>Bretagne</td>\n",
       "      <td>2023-05-29</td>\n",
       "      <td>1677</td>\n",
       "    </tr>\n",
       "    <tr>\n",
       "      <th>11407</th>\n",
       "      <td>Bretagne</td>\n",
       "      <td>2023-05-30</td>\n",
       "      <td>2057</td>\n",
       "    </tr>\n",
       "    <tr>\n",
       "      <th>11408</th>\n",
       "      <td>Bretagne</td>\n",
       "      <td>2023-05-31</td>\n",
       "      <td>2106</td>\n",
       "    </tr>\n",
       "  </tbody>\n",
       "</table>\n",
       "<p>3803 rows × 3 columns</p>\n",
       "</div>"
      ],
      "text/plain": [
       "         region       date  consumption\n",
       "7606   Bretagne 2013-01-01         2595\n",
       "7607   Bretagne 2013-01-02         3195\n",
       "7608   Bretagne 2013-01-03         3157\n",
       "7609   Bretagne 2013-01-04         3142\n",
       "7610   Bretagne 2013-01-05         2859\n",
       "...         ...        ...          ...\n",
       "11404  Bretagne 2023-05-27         1761\n",
       "11405  Bretagne 2023-05-28         1610\n",
       "11406  Bretagne 2023-05-29         1677\n",
       "11407  Bretagne 2023-05-30         2057\n",
       "11408  Bretagne 2023-05-31         2106\n",
       "\n",
       "[3803 rows x 3 columns]"
      ]
     },
     "execution_count": 289,
     "metadata": {},
     "output_type": "execute_result"
    }
   ],
   "source": [
    "df_region"
   ]
  },
  {
   "cell_type": "code",
   "execution_count": 290,
   "id": "eef24ffd",
   "metadata": {},
   "outputs": [
    {
     "data": {
      "text/html": [
       "<div>\n",
       "<style scoped>\n",
       "    .dataframe tbody tr th:only-of-type {\n",
       "        vertical-align: middle;\n",
       "    }\n",
       "\n",
       "    .dataframe tbody tr th {\n",
       "        vertical-align: top;\n",
       "    }\n",
       "\n",
       "    .dataframe thead th {\n",
       "        text-align: right;\n",
       "    }\n",
       "</style>\n",
       "<table border=\"1\" class=\"dataframe\">\n",
       "  <thead>\n",
       "    <tr style=\"text-align: right;\">\n",
       "      <th></th>\n",
       "      <th>region</th>\n",
       "      <th>date</th>\n",
       "      <th>consumption</th>\n",
       "    </tr>\n",
       "  </thead>\n",
       "  <tbody>\n",
       "    <tr>\n",
       "      <th>7606</th>\n",
       "      <td>Bretagne</td>\n",
       "      <td>2013-01-01</td>\n",
       "      <td>2595</td>\n",
       "    </tr>\n",
       "    <tr>\n",
       "      <th>7607</th>\n",
       "      <td>Bretagne</td>\n",
       "      <td>2013-01-02</td>\n",
       "      <td>3195</td>\n",
       "    </tr>\n",
       "    <tr>\n",
       "      <th>7608</th>\n",
       "      <td>Bretagne</td>\n",
       "      <td>2013-01-03</td>\n",
       "      <td>3157</td>\n",
       "    </tr>\n",
       "    <tr>\n",
       "      <th>7609</th>\n",
       "      <td>Bretagne</td>\n",
       "      <td>2013-01-04</td>\n",
       "      <td>3142</td>\n",
       "    </tr>\n",
       "    <tr>\n",
       "      <th>7610</th>\n",
       "      <td>Bretagne</td>\n",
       "      <td>2013-01-05</td>\n",
       "      <td>2859</td>\n",
       "    </tr>\n",
       "    <tr>\n",
       "      <th>...</th>\n",
       "      <td>...</td>\n",
       "      <td>...</td>\n",
       "      <td>...</td>\n",
       "    </tr>\n",
       "    <tr>\n",
       "      <th>11333</th>\n",
       "      <td>Bretagne</td>\n",
       "      <td>2023-03-17</td>\n",
       "      <td>2609</td>\n",
       "    </tr>\n",
       "    <tr>\n",
       "      <th>11334</th>\n",
       "      <td>Bretagne</td>\n",
       "      <td>2023-03-18</td>\n",
       "      <td>2309</td>\n",
       "    </tr>\n",
       "    <tr>\n",
       "      <th>11335</th>\n",
       "      <td>Bretagne</td>\n",
       "      <td>2023-03-19</td>\n",
       "      <td>2206</td>\n",
       "    </tr>\n",
       "    <tr>\n",
       "      <th>11336</th>\n",
       "      <td>Bretagne</td>\n",
       "      <td>2023-03-20</td>\n",
       "      <td>2672</td>\n",
       "    </tr>\n",
       "    <tr>\n",
       "      <th>11337</th>\n",
       "      <td>Bretagne</td>\n",
       "      <td>2023-03-21</td>\n",
       "      <td>2618</td>\n",
       "    </tr>\n",
       "  </tbody>\n",
       "</table>\n",
       "<p>982 rows × 3 columns</p>\n",
       "</div>"
      ],
      "text/plain": [
       "         region       date  consumption\n",
       "7606   Bretagne 2013-01-01         2595\n",
       "7607   Bretagne 2013-01-02         3195\n",
       "7608   Bretagne 2013-01-03         3157\n",
       "7609   Bretagne 2013-01-04         3142\n",
       "7610   Bretagne 2013-01-05         2859\n",
       "...         ...        ...          ...\n",
       "11333  Bretagne 2023-03-17         2609\n",
       "11334  Bretagne 2023-03-18         2309\n",
       "11335  Bretagne 2023-03-19         2206\n",
       "11336  Bretagne 2023-03-20         2672\n",
       "11337  Bretagne 2023-03-21         2618\n",
       "\n",
       "[982 rows x 3 columns]"
      ]
     },
     "execution_count": 290,
     "metadata": {},
     "output_type": "execute_result"
    }
   ],
   "source": [
    "df_region_hivers"
   ]
  },
  {
   "cell_type": "code",
   "execution_count": 291,
   "id": "03c902e7",
   "metadata": {},
   "outputs": [
    {
     "data": {
      "image/png": "[encoded data removed]",
      "text/plain": [
       "<Figure size 640x480 with 1 Axes>"
      ]
     },
     "metadata": {},
     "output_type": "display_data"
    }
   ],
   "source": [
    "# density (with kde = kernel density estimation)\n",
    "sns.kdeplot(data=df_region_hivers, x=\"consumption\", label=\"Winter Data\", color='orange', fill=True)\n",
    "\n",
    "plt.title(region + \" winter Consumption (MW)\")\n",
    "plt.xlabel(\"Consumption (MW)\")\n",
    "plt.legend() \n",
    "plt.show()"
   ]
  },
  {
   "cell_type": "code",
   "execution_count": 292,
   "id": "baf6484f",
   "metadata": {},
   "outputs": [
    {
     "name": "stdout",
     "output_type": "stream",
     "text": [
      "En hiver Pour la region bretagne  : --------------------------------------------\n",
      "mu= 3214.1782077393077\n",
      "\n",
      "Var= 167670.9009313411\n",
      "\n",
      "sigma= 409.4763740819989\n",
      "-------------------------------------\n"
     ]
    },
    {
     "name": "stderr",
     "output_type": "stream",
     "text": [
      "C:\\Users\\akilh\\AppData\\Local\\Temp\\ipykernel_9044\\3405720359.py:11: SettingWithCopyWarning: \n",
      "A value is trying to be set on a copy of a slice from a DataFrame.\n",
      "Try using .loc[row_indexer,col_indexer] = value instead\n",
      "\n",
      "See the caveats in the documentation: https://pandas.pydata.org/pandas-docs/stable/user_guide/indexing.html#returning-a-view-versus-a-copy\n",
      "  df_region_hivers.loc[:, \"winter_estimated_consumption\"] = list(winter_est_consumption)\n"
     ]
    },
    {
     "data": {
      "image/png": "[encoded data removed]",
      "text/plain": [
       "<Figure size 640x480 with 1 Axes>"
      ]
     },
     "metadata": {},
     "output_type": "display_data"
    }
   ],
   "source": [
    "print(\"En hiver Pour la region bretagne  : --------------------------------------------\")\n",
    "mu=mean_estimator(list(df_region_hivers[\"consumption\"]))\n",
    "var=var_estimator(list(df_region_hivers[\"consumption\"]))\n",
    "stdv=stdv_estimator(list(df_region_hivers[\"consumption\"]))\n",
    "print(\"mu=\", mu)\n",
    "print(\"\\nVar=\", var)\n",
    "print(\"\\nsigma=\", stdv)\n",
    "print(\"-------------------------------------\")\n",
    "\n",
    "winter_est_consumption = np.random.normal(mu, stdv, df_region_hivers.shape[0])\n",
    "df_region_hivers.loc[:, \"winter_estimated_consumption\"] = list(winter_est_consumption)\n",
    "\n",
    "# density (with kde = kernel density estimation)\n",
    "sns.kdeplot(data=df_region_hivers, x=\"consumption\", label=\"Data\", color='orange', fill=True)\n",
    "sns.kdeplot(data=df_region_hivers, x=\"winter_estimated_consumption\", label=\"Data_estimated\", color='blue', fill=True)\n",
    "\n",
    "plt.title(region + \" Winter Estimated Consumption (MW)\")\n",
    "plt.xlabel(\"Consumption (MW)\")\n",
    "plt.legend() \n",
    "plt.show()\n"
   ]
  },
  {
   "cell_type": "markdown",
   "id": "2c341977",
   "metadata": {},
   "source": [
    "6. Dans quel des cas l'hypothèse gaussienne est plus appropriée ?"
   ]
  },
  {
   "cell_type": "markdown",
   "id": "4de574f5",
   "metadata": {},
   "source": [
    "- L'hypothese gaussienne est plus appropriée pour **le cas de la consomation en hiver**."
   ]
  },
  {
   "cell_type": "markdown",
   "id": "3b396ff6",
   "metadata": {},
   "source": [
    "## B. Goodness of fit"
   ]
  },
  {
   "cell_type": "markdown",
   "id": "b5d39610",
   "metadata": {},
   "source": [
    "On souhaite confirmer et quantifier l'observation de la partie A.\n",
    "\n",
    "Nous proposons la mesure de dissimilarité suivante, qui se base sur deux fonctionnes de répartitions $f$ et $g$:\n",
    "$$\n",
    "d(f, g) = \\frac 1 2 \\int |f(x) - g(x)| \\mathrm dx.\n",
    "$$"
   ]
  },
  {
   "cell_type": "markdown",
   "id": "87b5684d",
   "metadata": {},
   "source": [
    "1. Montrez que $d(f,g) \\in [0,1]$, avec $d(f,g)=0$ si et seulement si $f=g$ presque partout (pour la mesure de Lebesgue) et $d(f,g)=1$ si et seulement si $f$ et $g$ possèdent des supports disjoints."
   ]
  },
  {
   "cell_type": "markdown",
   "id": "397f4544",
   "metadata": {},
   "source": [
    "Votre réponse :"
   ]
  },
  {
   "cell_type": "markdown",
   "id": "ead0b5e1",
   "metadata": {},
   "source": [
    "- On a :\n",
    "$$\n",
    "|f(x) - g(x)| \\geq 0   \n",
    "$$\n",
    "Donc : \n",
    "$$\n",
    "\\frac 1 2 \\int |f(x) - g(x)| \\mathrm dx \\geq 0\n",
    "$$\n",
    "\n",
    "- Et $$\\frac 1 2 \\int |f(x) - g(x)| \\mathrm dx \\leq \\frac 1 2 \\int |f(x)| + \\frac 1 2 \\int |g(x)| \\mathrm dx \\leq \\frac 1 2 + \\frac 1 2 \\leq 1$$\n",
    "Car f et g sont des probabilités. \n",
    "- Conclusion : $$ d(f, g) \\in [0, 1] $$\n"
   ]
  },
  {
   "cell_type": "markdown",
   "id": "c7725493",
   "metadata": {},
   "source": [
    "- i) On a :  $x \\to |f(x) - g(x)|$ continue et positive alors : $\\int |f(x) - g(x)| = 0 \\iff  |f - g| = 0 $ presque partout $\\iff $ **f=g presque partout**.\n",
    "- ii) \n",
    "    -  (**sens 1**)  Si $Supp(f) \\cap Supp(g) = \\emptyset$ alors $\\frac 1 2 \\int |f(x) - g(x)| \\mathrm dx = \\frac 1 2 \\int |f(x)| + \\frac 1 2 \\int |g(x)|\\mathrm dx = 1 $ $\\\\$\n",
    "    -  (**sens 2**) On suppose que d(f, g)=1 $\\\\$\n",
    "    donc $\\frac 1 2 \\int_{\\mathbb R} |f - g| = \\frac 1 2 \\int_{\\mathbb R} f + \\frac 1 2 \\int_{\\mathbb R} g = 1 $ (**1**) $\\\\$ \n",
    "    et  $\\int_{\\mathbb R} f = \\int_{\\mathbb Supp(f)} f$ et $\\int_{\\mathbb R} g = \\int_{\\mathbb Supp(g)} g \\\\$\n",
    "    Si on pose : $\\\\$\n",
    "    $A = (\\mathbb Supp(f) ∩ \\mathbb Supp(g)) ∪ (\\mathbb Supp(f) \\setminus \\mathbb Supp(g)) ∪ (\\mathbb Supp(f) \\setminus \\mathbb Supp(g))\\\\$\n",
    "    Alors : $\\mathbb R = A \\cup (\\mathbb R \\setminus A)\\\\$\n",
    "    D'ou : \n",
    "    $\\int_{\\mathbb R} |f - g| = \\int_{\\mathbb R \\setminus A} |f - g| + \\int_{\\mathbb Supp(f) ∩ \\mathbb Supp(g)} |f - g| + \\int_{\\mathbb Supp(f) \\setminus \\mathbb Supp(g)} |f - g| + \\int_{\\mathbb Supp(f) \\setminus \\mathbb Supp(g)} |f - g|\\\\$\n",
    "    Or : $\\\\$-\n",
    "    $\\int_{\\mathbb R \\setminus A} |f - g| = 0 \\\\$ - \n",
    "    $\\int_{\\mathbb Supp(f) \\setminus \\mathbb Supp(g)} |f - g| = \\int_{\\mathbb Supp(f) \\setminus \\mathbb Supp(g)} f\\\\$ - \n",
    "    $\\int_{\\mathbb Supp(g) \\setminus \\mathbb Supp(f)} |f - g| = \\int_{\\mathbb Supp(g) \\setminus \\mathbb Supp(f)} g\\\\$\n",
    "    donc : (**1**) $ \\implies \\int_{\\mathbb Supp(f) ∩ \\mathbb Supp(g)} |f - g| + \\int_{\\mathbb Supp(f) \\setminus \\mathbb Supp(g)} f + \\int_{\\mathbb Supp(g) \\setminus \\mathbb Supp(f)} g = \\int_{\\mathbb Supp(f)} f + \\int_{\\mathbb Supp(g)} g \\\\$\n",
    "    Et donc on peut dire que  : $ \\int_{\\mathbb Supp(f) ∩ \\mathbb Supp(g)} |f - g| = \\int_{\\mathbb Supp(g)} f + \\int_{\\mathbb Supp(f)} g \\\\$\n",
    "    On sait que : $\\int_{\\mathbb Supp(f) ∩ \\mathbb Supp(g)} |f - g| =  \\int_{\\mathbb Supp(f) ∩ \\mathbb Supp(g)} f + \\int_{\\mathbb Supp(f) ∩ \\mathbb Supp(g)} g \\\\$\n",
    "    donc : $\\int_{\\mathbb Supp(g)} f - \\int_{\\mathbb Supp(f) ∩ \\mathbb Supp(g)} f =  \\int_{\\mathbb Supp(f) ∩ \\mathbb Supp(g)} g - \\int_{\\mathbb Supp(f)} g \\\\$\n",
    "    - Supposons que : $\\mathbb Supp(f) ∩ \\mathbb Supp(g) ≠ \\empty $\n",
    "    On aura bien sur (d(f, g)=1)(f et g jouent des rols commutatifs): $\\mathbb Supp(f) ∩ \\mathbb Supp(g) \\subset \\mathbb Supp(f) \\\\$\n",
    "    on aura : $\\int_{\\mathbb Supp(f) ∩ \\mathbb Supp(g)} g - \\int_{\\mathbb Supp(f)} g < 0 $\n",
    "    et en meme temps : $\\int_{\\mathbb Supp(g) ∩ \\mathbb Supp(f)} f - \\int_{\\mathbb Supp(g)} f > 0 \\\\$\n",
    "    Alors que les qunatités sont égales !! **ABSURDE** $\\\\$\n",
    "    - Donc : $\\textcolor{red}{\\mathbb Supp(f) ∩ \\mathbb Supp(g) = \\empty} $\n",
    "\n",
    "      \n",
    " "
   ]
  },
  {
   "cell_type": "markdown",
   "id": "ae7d158a",
   "metadata": {},
   "source": [
    "2. Pour la région Bretagne, calculez la dissimilarité entre le *kde* des données réelles et de la densité du modèle gaussien."
   ]
  },
  {
   "cell_type": "code",
   "execution_count": 293,
   "id": "0f61f604",
   "metadata": {},
   "outputs": [
    {
     "data": {
      "text/html": [
       "<div>\n",
       "<style scoped>\n",
       "    .dataframe tbody tr th:only-of-type {\n",
       "        vertical-align: middle;\n",
       "    }\n",
       "\n",
       "    .dataframe tbody tr th {\n",
       "        vertical-align: top;\n",
       "    }\n",
       "\n",
       "    .dataframe thead th {\n",
       "        text-align: right;\n",
       "    }\n",
       "</style>\n",
       "<table border=\"1\" class=\"dataframe\">\n",
       "  <thead>\n",
       "    <tr style=\"text-align: right;\">\n",
       "      <th></th>\n",
       "      <th>region</th>\n",
       "      <th>date</th>\n",
       "      <th>consumption</th>\n",
       "      <th>estimated_consumption</th>\n",
       "    </tr>\n",
       "  </thead>\n",
       "  <tbody>\n",
       "    <tr>\n",
       "      <th>7606</th>\n",
       "      <td>Bretagne</td>\n",
       "      <td>2013-01-01</td>\n",
       "      <td>2595</td>\n",
       "      <td>3040.993082</td>\n",
       "    </tr>\n",
       "    <tr>\n",
       "      <th>7607</th>\n",
       "      <td>Bretagne</td>\n",
       "      <td>2013-01-02</td>\n",
       "      <td>3195</td>\n",
       "      <td>3033.226628</td>\n",
       "    </tr>\n",
       "    <tr>\n",
       "      <th>7608</th>\n",
       "      <td>Bretagne</td>\n",
       "      <td>2013-01-03</td>\n",
       "      <td>3157</td>\n",
       "      <td>2495.076529</td>\n",
       "    </tr>\n",
       "    <tr>\n",
       "      <th>7609</th>\n",
       "      <td>Bretagne</td>\n",
       "      <td>2013-01-04</td>\n",
       "      <td>3142</td>\n",
       "      <td>3148.184276</td>\n",
       "    </tr>\n",
       "    <tr>\n",
       "      <th>7610</th>\n",
       "      <td>Bretagne</td>\n",
       "      <td>2013-01-05</td>\n",
       "      <td>2859</td>\n",
       "      <td>3371.940161</td>\n",
       "    </tr>\n",
       "    <tr>\n",
       "      <th>...</th>\n",
       "      <td>...</td>\n",
       "      <td>...</td>\n",
       "      <td>...</td>\n",
       "      <td>...</td>\n",
       "    </tr>\n",
       "    <tr>\n",
       "      <th>11404</th>\n",
       "      <td>Bretagne</td>\n",
       "      <td>2023-05-27</td>\n",
       "      <td>1761</td>\n",
       "      <td>2713.411031</td>\n",
       "    </tr>\n",
       "    <tr>\n",
       "      <th>11405</th>\n",
       "      <td>Bretagne</td>\n",
       "      <td>2023-05-28</td>\n",
       "      <td>1610</td>\n",
       "      <td>3218.306951</td>\n",
       "    </tr>\n",
       "    <tr>\n",
       "      <th>11406</th>\n",
       "      <td>Bretagne</td>\n",
       "      <td>2023-05-29</td>\n",
       "      <td>1677</td>\n",
       "      <td>2573.523826</td>\n",
       "    </tr>\n",
       "    <tr>\n",
       "      <th>11407</th>\n",
       "      <td>Bretagne</td>\n",
       "      <td>2023-05-30</td>\n",
       "      <td>2057</td>\n",
       "      <td>1206.883124</td>\n",
       "    </tr>\n",
       "    <tr>\n",
       "      <th>11408</th>\n",
       "      <td>Bretagne</td>\n",
       "      <td>2023-05-31</td>\n",
       "      <td>2106</td>\n",
       "      <td>1548.004592</td>\n",
       "    </tr>\n",
       "  </tbody>\n",
       "</table>\n",
       "<p>3803 rows × 4 columns</p>\n",
       "</div>"
      ],
      "text/plain": [
       "         region        date  consumption  estimated_consumption\n",
       "7606   Bretagne  2013-01-01         2595            3040.993082\n",
       "7607   Bretagne  2013-01-02         3195            3033.226628\n",
       "7608   Bretagne  2013-01-03         3157            2495.076529\n",
       "7609   Bretagne  2013-01-04         3142            3148.184276\n",
       "7610   Bretagne  2013-01-05         2859            3371.940161\n",
       "...         ...         ...          ...                    ...\n",
       "11404  Bretagne  2023-05-27         1761            2713.411031\n",
       "11405  Bretagne  2023-05-28         1610            3218.306951\n",
       "11406  Bretagne  2023-05-29         1677            2573.523826\n",
       "11407  Bretagne  2023-05-30         2057            1206.883124\n",
       "11408  Bretagne  2023-05-31         2106            1548.004592\n",
       "\n",
       "[3803 rows x 4 columns]"
      ]
     },
     "execution_count": 293,
     "metadata": {},
     "output_type": "execute_result"
    }
   ],
   "source": [
    "df_region1"
   ]
  },
  {
   "cell_type": "code",
   "execution_count": 294,
   "id": "d0806681",
   "metadata": {},
   "outputs": [
    {
     "data": {
      "text/html": [
       "<div>\n",
       "<style scoped>\n",
       "    .dataframe tbody tr th:only-of-type {\n",
       "        vertical-align: middle;\n",
       "    }\n",
       "\n",
       "    .dataframe tbody tr th {\n",
       "        vertical-align: top;\n",
       "    }\n",
       "\n",
       "    .dataframe thead th {\n",
       "        text-align: right;\n",
       "    }\n",
       "</style>\n",
       "<table border=\"1\" class=\"dataframe\">\n",
       "  <thead>\n",
       "    <tr style=\"text-align: right;\">\n",
       "      <th></th>\n",
       "      <th>region</th>\n",
       "      <th>date</th>\n",
       "      <th>consumption</th>\n",
       "      <th>winter_estimated_consumption</th>\n",
       "    </tr>\n",
       "  </thead>\n",
       "  <tbody>\n",
       "    <tr>\n",
       "      <th>7606</th>\n",
       "      <td>Bretagne</td>\n",
       "      <td>2013-01-01</td>\n",
       "      <td>2595</td>\n",
       "      <td>2829.882678</td>\n",
       "    </tr>\n",
       "    <tr>\n",
       "      <th>7607</th>\n",
       "      <td>Bretagne</td>\n",
       "      <td>2013-01-02</td>\n",
       "      <td>3195</td>\n",
       "      <td>3132.531859</td>\n",
       "    </tr>\n",
       "    <tr>\n",
       "      <th>7608</th>\n",
       "      <td>Bretagne</td>\n",
       "      <td>2013-01-03</td>\n",
       "      <td>3157</td>\n",
       "      <td>3087.082601</td>\n",
       "    </tr>\n",
       "    <tr>\n",
       "      <th>7609</th>\n",
       "      <td>Bretagne</td>\n",
       "      <td>2013-01-04</td>\n",
       "      <td>3142</td>\n",
       "      <td>3220.330318</td>\n",
       "    </tr>\n",
       "    <tr>\n",
       "      <th>7610</th>\n",
       "      <td>Bretagne</td>\n",
       "      <td>2013-01-05</td>\n",
       "      <td>2859</td>\n",
       "      <td>3645.520874</td>\n",
       "    </tr>\n",
       "    <tr>\n",
       "      <th>...</th>\n",
       "      <td>...</td>\n",
       "      <td>...</td>\n",
       "      <td>...</td>\n",
       "      <td>...</td>\n",
       "    </tr>\n",
       "    <tr>\n",
       "      <th>11333</th>\n",
       "      <td>Bretagne</td>\n",
       "      <td>2023-03-17</td>\n",
       "      <td>2609</td>\n",
       "      <td>3479.568107</td>\n",
       "    </tr>\n",
       "    <tr>\n",
       "      <th>11334</th>\n",
       "      <td>Bretagne</td>\n",
       "      <td>2023-03-18</td>\n",
       "      <td>2309</td>\n",
       "      <td>3413.710774</td>\n",
       "    </tr>\n",
       "    <tr>\n",
       "      <th>11335</th>\n",
       "      <td>Bretagne</td>\n",
       "      <td>2023-03-19</td>\n",
       "      <td>2206</td>\n",
       "      <td>3749.401471</td>\n",
       "    </tr>\n",
       "    <tr>\n",
       "      <th>11336</th>\n",
       "      <td>Bretagne</td>\n",
       "      <td>2023-03-20</td>\n",
       "      <td>2672</td>\n",
       "      <td>2936.906286</td>\n",
       "    </tr>\n",
       "    <tr>\n",
       "      <th>11337</th>\n",
       "      <td>Bretagne</td>\n",
       "      <td>2023-03-21</td>\n",
       "      <td>2618</td>\n",
       "      <td>2842.091679</td>\n",
       "    </tr>\n",
       "  </tbody>\n",
       "</table>\n",
       "<p>982 rows × 4 columns</p>\n",
       "</div>"
      ],
      "text/plain": [
       "         region       date  consumption  winter_estimated_consumption\n",
       "7606   Bretagne 2013-01-01         2595                   2829.882678\n",
       "7607   Bretagne 2013-01-02         3195                   3132.531859\n",
       "7608   Bretagne 2013-01-03         3157                   3087.082601\n",
       "7609   Bretagne 2013-01-04         3142                   3220.330318\n",
       "7610   Bretagne 2013-01-05         2859                   3645.520874\n",
       "...         ...        ...          ...                           ...\n",
       "11333  Bretagne 2023-03-17         2609                   3479.568107\n",
       "11334  Bretagne 2023-03-18         2309                   3413.710774\n",
       "11335  Bretagne 2023-03-19         2206                   3749.401471\n",
       "11336  Bretagne 2023-03-20         2672                   2936.906286\n",
       "11337  Bretagne 2023-03-21         2618                   2842.091679\n",
       "\n",
       "[982 rows x 4 columns]"
      ]
     },
     "execution_count": 294,
     "metadata": {},
     "output_type": "execute_result"
    }
   ],
   "source": [
    "df_region_hivers"
   ]
  },
  {
   "cell_type": "code",
   "execution_count": 295,
   "id": "43801814",
   "metadata": {},
   "outputs": [],
   "source": [
    "def dissimilarity(X, X_hat):\n",
    "    a = min(min(X), min(X_hat))\n",
    "    b = max(max(X), max(X_hat))\n",
    "\n",
    "    g = gaussian_kde(X_hat)\n",
    "    f = gaussian_kde(X)\n",
    "    x = np.linspace(a, b, 1000)\n",
    "    g_x = g(x)\n",
    "    f_x = f(x)\n",
    "\n",
    "    d = np.trapz(np.abs(f_x - g_x), x)\n",
    "\n",
    "    return d\n"
   ]
  },
  {
   "cell_type": "code",
   "execution_count": 296,
   "id": "c0caa196",
   "metadata": {},
   "outputs": [
    {
     "name": "stdout",
     "output_type": "stream",
     "text": [
      "The dissimilarity in the first case is : d= 0.3308307980205677\n"
     ]
    }
   ],
   "source": [
    "d = dissimilarity(list(df_region1[\"consumption\"]), list(df_region1[\"estimated_consumption\"]))\n",
    "print(\"The dissimilarity in the first case is : d=\", d)"
   ]
  },
  {
   "cell_type": "markdown",
   "id": "f8817106",
   "metadata": {},
   "source": [
    "3. Répétez la même procedure pour la région Bretagne en hiver et verifiez votre conclusion de la partie A."
   ]
  },
  {
   "cell_type": "code",
   "execution_count": 297,
   "id": "7b15a902",
   "metadata": {},
   "outputs": [
    {
     "name": "stdout",
     "output_type": "stream",
     "text": [
      "The dissimilarity in winter case is : d= 0.048446315113722396\n"
     ]
    }
   ],
   "source": [
    "d = dissimilarity(list(df_region_hivers[\"consumption\"]), list(df_region_hivers[\"winter_estimated_consumption\"]))\n",
    "print(\"The dissimilarity in winter case is : d=\", d)"
   ]
  },
  {
   "cell_type": "markdown",
   "id": "f11eed4e",
   "metadata": {},
   "source": [
    "**Vérification** : Apres examination de dissimilarité, c'est cohérant avec la conclusion de la partie A qui consistait à ce que l'hypthese gaussinne est plus appropriée en hiver."
   ]
  },
  {
   "cell_type": "markdown",
   "id": "7d78fec0",
   "metadata": {},
   "source": [
    "4. Répétez la même procedure pour toutes régions. Présentez le résultat dans un seul dataframe."
   ]
  },
  {
   "cell_type": "code",
   "execution_count": 298,
   "id": "fef07b23",
   "metadata": {},
   "outputs": [
    {
     "name": "stderr",
     "output_type": "stream",
     "text": [
      "C:\\Users\\akilh\\AppData\\Local\\Temp\\ipykernel_9044\\3029913844.py:13: SettingWithCopyWarning: \n",
      "A value is trying to be set on a copy of a slice from a DataFrame.\n",
      "Try using .loc[row_indexer,col_indexer] = value instead\n",
      "\n",
      "See the caveats in the documentation: https://pandas.pydata.org/pandas-docs/stable/user_guide/indexing.html#returning-a-view-versus-a-copy\n",
      "  df_region[\"date\"] = pd.to_datetime(df_region[\"date\"], format=\"%Y-%m-%d\")\n",
      "C:\\Users\\akilh\\AppData\\Local\\Temp\\ipykernel_9044\\3029913844.py:13: SettingWithCopyWarning: \n",
      "A value is trying to be set on a copy of a slice from a DataFrame.\n",
      "Try using .loc[row_indexer,col_indexer] = value instead\n",
      "\n",
      "See the caveats in the documentation: https://pandas.pydata.org/pandas-docs/stable/user_guide/indexing.html#returning-a-view-versus-a-copy\n",
      "  df_region[\"date\"] = pd.to_datetime(df_region[\"date\"], format=\"%Y-%m-%d\")\n",
      "C:\\Users\\akilh\\AppData\\Local\\Temp\\ipykernel_9044\\3029913844.py:13: SettingWithCopyWarning: \n",
      "A value is trying to be set on a copy of a slice from a DataFrame.\n",
      "Try using .loc[row_indexer,col_indexer] = value instead\n",
      "\n",
      "See the caveats in the documentation: https://pandas.pydata.org/pandas-docs/stable/user_guide/indexing.html#returning-a-view-versus-a-copy\n",
      "  df_region[\"date\"] = pd.to_datetime(df_region[\"date\"], format=\"%Y-%m-%d\")\n",
      "C:\\Users\\akilh\\AppData\\Local\\Temp\\ipykernel_9044\\3029913844.py:13: SettingWithCopyWarning: \n",
      "A value is trying to be set on a copy of a slice from a DataFrame.\n",
      "Try using .loc[row_indexer,col_indexer] = value instead\n",
      "\n",
      "See the caveats in the documentation: https://pandas.pydata.org/pandas-docs/stable/user_guide/indexing.html#returning-a-view-versus-a-copy\n",
      "  df_region[\"date\"] = pd.to_datetime(df_region[\"date\"], format=\"%Y-%m-%d\")\n",
      "C:\\Users\\akilh\\AppData\\Local\\Temp\\ipykernel_9044\\3029913844.py:13: SettingWithCopyWarning: \n",
      "A value is trying to be set on a copy of a slice from a DataFrame.\n",
      "Try using .loc[row_indexer,col_indexer] = value instead\n",
      "\n",
      "See the caveats in the documentation: https://pandas.pydata.org/pandas-docs/stable/user_guide/indexing.html#returning-a-view-versus-a-copy\n",
      "  df_region[\"date\"] = pd.to_datetime(df_region[\"date\"], format=\"%Y-%m-%d\")\n",
      "C:\\Users\\akilh\\AppData\\Local\\Temp\\ipykernel_9044\\3029913844.py:13: SettingWithCopyWarning: \n",
      "A value is trying to be set on a copy of a slice from a DataFrame.\n",
      "Try using .loc[row_indexer,col_indexer] = value instead\n",
      "\n",
      "See the caveats in the documentation: https://pandas.pydata.org/pandas-docs/stable/user_guide/indexing.html#returning-a-view-versus-a-copy\n",
      "  df_region[\"date\"] = pd.to_datetime(df_region[\"date\"], format=\"%Y-%m-%d\")\n",
      "C:\\Users\\akilh\\AppData\\Local\\Temp\\ipykernel_9044\\3029913844.py:13: SettingWithCopyWarning: \n",
      "A value is trying to be set on a copy of a slice from a DataFrame.\n",
      "Try using .loc[row_indexer,col_indexer] = value instead\n",
      "\n",
      "See the caveats in the documentation: https://pandas.pydata.org/pandas-docs/stable/user_guide/indexing.html#returning-a-view-versus-a-copy\n",
      "  df_region[\"date\"] = pd.to_datetime(df_region[\"date\"], format=\"%Y-%m-%d\")\n",
      "C:\\Users\\akilh\\AppData\\Local\\Temp\\ipykernel_9044\\3029913844.py:13: SettingWithCopyWarning: \n",
      "A value is trying to be set on a copy of a slice from a DataFrame.\n",
      "Try using .loc[row_indexer,col_indexer] = value instead\n",
      "\n",
      "See the caveats in the documentation: https://pandas.pydata.org/pandas-docs/stable/user_guide/indexing.html#returning-a-view-versus-a-copy\n",
      "  df_region[\"date\"] = pd.to_datetime(df_region[\"date\"], format=\"%Y-%m-%d\")\n"
     ]
    },
    {
     "name": "stderr",
     "output_type": "stream",
     "text": [
      "C:\\Users\\akilh\\AppData\\Local\\Temp\\ipykernel_9044\\3029913844.py:13: SettingWithCopyWarning: \n",
      "A value is trying to be set on a copy of a slice from a DataFrame.\n",
      "Try using .loc[row_indexer,col_indexer] = value instead\n",
      "\n",
      "See the caveats in the documentation: https://pandas.pydata.org/pandas-docs/stable/user_guide/indexing.html#returning-a-view-versus-a-copy\n",
      "  df_region[\"date\"] = pd.to_datetime(df_region[\"date\"], format=\"%Y-%m-%d\")\n",
      "C:\\Users\\akilh\\AppData\\Local\\Temp\\ipykernel_9044\\3029913844.py:13: SettingWithCopyWarning: \n",
      "A value is trying to be set on a copy of a slice from a DataFrame.\n",
      "Try using .loc[row_indexer,col_indexer] = value instead\n",
      "\n",
      "See the caveats in the documentation: https://pandas.pydata.org/pandas-docs/stable/user_guide/indexing.html#returning-a-view-versus-a-copy\n",
      "  df_region[\"date\"] = pd.to_datetime(df_region[\"date\"], format=\"%Y-%m-%d\")\n",
      "C:\\Users\\akilh\\AppData\\Local\\Temp\\ipykernel_9044\\3029913844.py:13: SettingWithCopyWarning: \n",
      "A value is trying to be set on a copy of a slice from a DataFrame.\n",
      "Try using .loc[row_indexer,col_indexer] = value instead\n",
      "\n",
      "See the caveats in the documentation: https://pandas.pydata.org/pandas-docs/stable/user_guide/indexing.html#returning-a-view-versus-a-copy\n",
      "  df_region[\"date\"] = pd.to_datetime(df_region[\"date\"], format=\"%Y-%m-%d\")\n",
      "C:\\Users\\akilh\\AppData\\Local\\Temp\\ipykernel_9044\\3029913844.py:13: SettingWithCopyWarning: \n",
      "A value is trying to be set on a copy of a slice from a DataFrame.\n",
      "Try using .loc[row_indexer,col_indexer] = value instead\n",
      "\n",
      "See the caveats in the documentation: https://pandas.pydata.org/pandas-docs/stable/user_guide/indexing.html#returning-a-view-versus-a-copy\n",
      "  df_region[\"date\"] = pd.to_datetime(df_region[\"date\"], format=\"%Y-%m-%d\")\n"
     ]
    },
    {
     "data": {
      "text/html": [
       "<div>\n",
       "<style scoped>\n",
       "    .dataframe tbody tr th:only-of-type {\n",
       "        vertical-align: middle;\n",
       "    }\n",
       "\n",
       "    .dataframe tbody tr th {\n",
       "        vertical-align: top;\n",
       "    }\n",
       "\n",
       "    .dataframe thead th {\n",
       "        text-align: right;\n",
       "    }\n",
       "</style>\n",
       "<table border=\"1\" class=\"dataframe\">\n",
       "  <thead>\n",
       "    <tr style=\"text-align: right;\">\n",
       "      <th></th>\n",
       "      <th>region</th>\n",
       "      <th>general_dissimilarity</th>\n",
       "      <th>winter_dissimilarity</th>\n",
       "    </tr>\n",
       "  </thead>\n",
       "  <tbody>\n",
       "    <tr>\n",
       "      <th>0</th>\n",
       "      <td>Auvergne-Rhône-Alpes</td>\n",
       "      <td>0.358235</td>\n",
       "      <td>0.071788</td>\n",
       "    </tr>\n",
       "    <tr>\n",
       "      <th>1</th>\n",
       "      <td>Bourgogne-Franche-Comté</td>\n",
       "      <td>0.243013</td>\n",
       "      <td>0.077605</td>\n",
       "    </tr>\n",
       "    <tr>\n",
       "      <th>2</th>\n",
       "      <td>Bretagne</td>\n",
       "      <td>0.369766</td>\n",
       "      <td>0.063691</td>\n",
       "    </tr>\n",
       "    <tr>\n",
       "      <th>3</th>\n",
       "      <td>Centre-Val de Loire</td>\n",
       "      <td>0.391911</td>\n",
       "      <td>0.055755</td>\n",
       "    </tr>\n",
       "    <tr>\n",
       "      <th>4</th>\n",
       "      <td>Grand Est</td>\n",
       "      <td>0.225391</td>\n",
       "      <td>0.086012</td>\n",
       "    </tr>\n",
       "    <tr>\n",
       "      <th>5</th>\n",
       "      <td>Hauts-de-France</td>\n",
       "      <td>0.279076</td>\n",
       "      <td>0.080988</td>\n",
       "    </tr>\n",
       "    <tr>\n",
       "      <th>6</th>\n",
       "      <td>Normandie</td>\n",
       "      <td>0.327729</td>\n",
       "      <td>0.060377</td>\n",
       "    </tr>\n",
       "    <tr>\n",
       "      <th>7</th>\n",
       "      <td>Nouvelle-Aquitaine</td>\n",
       "      <td>0.448830</td>\n",
       "      <td>0.101183</td>\n",
       "    </tr>\n",
       "    <tr>\n",
       "      <th>8</th>\n",
       "      <td>Occitanie</td>\n",
       "      <td>0.460268</td>\n",
       "      <td>0.131126</td>\n",
       "    </tr>\n",
       "    <tr>\n",
       "      <th>9</th>\n",
       "      <td>Pays de la Loire</td>\n",
       "      <td>0.342665</td>\n",
       "      <td>0.072104</td>\n",
       "    </tr>\n",
       "    <tr>\n",
       "      <th>10</th>\n",
       "      <td>Provence-Alpes-Côte d'Azur</td>\n",
       "      <td>0.447191</td>\n",
       "      <td>0.060841</td>\n",
       "    </tr>\n",
       "    <tr>\n",
       "      <th>11</th>\n",
       "      <td>Île-de-France</td>\n",
       "      <td>0.343881</td>\n",
       "      <td>0.090080</td>\n",
       "    </tr>\n",
       "  </tbody>\n",
       "</table>\n",
       "</div>"
      ],
      "text/plain": [
       "                        region  general_dissimilarity  winter_dissimilarity\n",
       "0         Auvergne-Rhône-Alpes               0.358235              0.071788\n",
       "1      Bourgogne-Franche-Comté               0.243013              0.077605\n",
       "2                     Bretagne               0.369766              0.063691\n",
       "3          Centre-Val de Loire               0.391911              0.055755\n",
       "4                    Grand Est               0.225391              0.086012\n",
       "5              Hauts-de-France               0.279076              0.080988\n",
       "6                    Normandie               0.327729              0.060377\n",
       "7           Nouvelle-Aquitaine               0.448830              0.101183\n",
       "8                    Occitanie               0.460268              0.131126\n",
       "9             Pays de la Loire               0.342665              0.072104\n",
       "10  Provence-Alpes-Côte d'Azur               0.447191              0.060841\n",
       "11               Île-de-France               0.343881              0.090080"
      ]
     },
     "execution_count": 298,
     "metadata": {},
     "output_type": "execute_result"
    }
   ],
   "source": [
    "general_dissimilarities=[]\n",
    "winter_dissimilarities=[]\n",
    "for region in df[\"region\"].unique():\n",
    "    df_region=df[df.region == region]\n",
    "\n",
    "    mu=mean_estimator(list(df_region[\"consumption\"]))\n",
    "    var=var_estimator(list(df_region[\"consumption\"]))\n",
    "    stdv=stdv_estimator(list(df_region[\"consumption\"]))\n",
    "\n",
    "    estimated_consumption = np.random.normal(mu, stdv, df_region.shape[0])\n",
    "    general_dissimilarities.append(dissimilarity(df_region[\"consumption\"], estimated_consumption))\n",
    "    ##########\n",
    "    df_region[\"date\"] = pd.to_datetime(df_region[\"date\"], format=\"%Y-%m-%d\")\n",
    "    # mask\n",
    "    mask = ((df_region[\"date\"].dt.month == 12) & (df_region[\"date\"].dt.day >= 22)) | \\\n",
    "        ((df_region[\"date\"].dt.month == 3) & (df_region[\"date\"].dt.day <= 21)) | \\\n",
    "        (df_region[\"date\"].dt.month == 1) | (df_region[\"date\"].dt.month == 2)\n",
    "    df_region_hiver = df_region[mask]\n",
    "\n",
    "\n",
    "    mu=mean_estimator(list(df_region_hiver[\"consumption\"]))\n",
    "    var=var_estimator(list(df_region_hiver[\"consumption\"]))\n",
    "    stdv=stdv_estimator(list(df_region_hiver[\"consumption\"]))\n",
    "\n",
    "\n",
    "    winter_estimated_consumption = np.random.normal(mu, stdv, df_region_hiver.shape[0])\n",
    "\n",
    "    winter_dissimilarities.append(dissimilarity(df_region_hiver[\"consumption\"], winter_estimated_consumption))\n",
    "    \n",
    "##Creation de la dataframe \n",
    "dissimilarities_df = pd.DataFrame({\"region\":df[\"region\"].unique(),\n",
    "                                \"general_dissimilarity\":general_dissimilarities,\n",
    "                                \"winter_dissimilarity\": winter_dissimilarities})\n",
    "dissimilarities_df"
   ]
  },
  {
   "cell_type": "markdown",
   "id": "3f0d3f61",
   "metadata": {},
   "source": [
    "5. Quelle région a le meilleur *fit* avel le modèle gaussien en hiver ?"
   ]
  },
  {
   "cell_type": "markdown",
   "id": "e56b1451",
   "metadata": {},
   "source": [
    "- Pour le cas general :"
   ]
  },
  {
   "cell_type": "code",
   "execution_count": 299,
   "id": "e2c8179c",
   "metadata": {},
   "outputs": [
    {
     "data": {
      "text/plain": [
       "'Grand Est'"
      ]
     },
     "execution_count": 299,
     "metadata": {},
     "output_type": "execute_result"
    }
   ],
   "source": [
    "index_min = dissimilarities_df['general_dissimilarity'].idxmin()\n",
    "\n",
    "region_meilleur_fit = dissimilarities_df.loc[index_min, \"region\"]\n",
    "\n",
    "region_meilleur_fit"
   ]
  },
  {
   "cell_type": "markdown",
   "id": "22b08d31",
   "metadata": {},
   "source": [
    "- Pour l'hiver :"
   ]
  },
  {
   "cell_type": "code",
   "execution_count": 300,
   "id": "251b89b1",
   "metadata": {},
   "outputs": [
    {
     "data": {
      "text/plain": [
       "'Centre-Val de Loire'"
      ]
     },
     "execution_count": 300,
     "metadata": {},
     "output_type": "execute_result"
    }
   ],
   "source": [
    "index_min = dissimilarities_df['winter_dissimilarity'].idxmin()\n",
    "\n",
    "region_meilleur_winter_fit = dissimilarities_df.loc[index_min, \"region\"]\n",
    "\n",
    "region_meilleur_winter_fit"
   ]
  },
  {
   "cell_type": "markdown",
   "id": "89888941",
   "metadata": {},
   "source": [
    "- **Remarque** : A chaque nouvelle fois qu'on lance le tirage du vecteur aléatoire, la région avec le minimum de dissimilarité change. C'est normal car toutes les régions ont une dissimilarité dans le meme ordre de grandeur.\n",
    "- **Résultat** : Après plusieurs tirages, la région avec le meilleur fit avec le modèle gaussien en hiver est : $\\textcolor{blue}{\\textbf{Bourgogne-Franche-Comté}}$."
   ]
  },
  {
   "cell_type": "markdown",
   "id": "aff086e4",
   "metadata": {},
   "source": [
    "6. Pour ces région et saison, tracez le *kde* des données réelles et le *kde* des données générées sur le même graphique."
   ]
  },
  {
   "cell_type": "code",
   "execution_count": 301,
   "id": "d61bb84e",
   "metadata": {},
   "outputs": [
    {
     "name": "stdout",
     "output_type": "stream",
     "text": [
      "Pour l'hiver à Bourgogne-Franche-Comté :----------------------------------\n",
      "mu= 2918.8228105906314\n",
      "\n",
      "Var= 140400.4945657927\n",
      "\n",
      "sigma= 374.7005398525504\n",
      "--------------------------------------\n"
     ]
    },
    {
     "name": "stderr",
     "output_type": "stream",
     "text": [
      "C:\\Users\\akilh\\AppData\\Local\\Temp\\ipykernel_9044\\3709714074.py:4: SettingWithCopyWarning: \n",
      "A value is trying to be set on a copy of a slice from a DataFrame.\n",
      "Try using .loc[row_indexer,col_indexer] = value instead\n",
      "\n",
      "See the caveats in the documentation: https://pandas.pydata.org/pandas-docs/stable/user_guide/indexing.html#returning-a-view-versus-a-copy\n",
      "  df_region[\"date\"] = pd.to_datetime(df_region[\"date\"], format=\"%Y-%m-%d\")\n",
      "C:\\Users\\akilh\\AppData\\Local\\Temp\\ipykernel_9044\\3709714074.py:24: SettingWithCopyWarning: \n",
      "A value is trying to be set on a copy of a slice from a DataFrame.\n",
      "Try using .loc[row_indexer,col_indexer] = value instead\n",
      "\n",
      "See the caveats in the documentation: https://pandas.pydata.org/pandas-docs/stable/user_guide/indexing.html#returning-a-view-versus-a-copy\n",
      "  df_region_hivers.loc[:, \"winter_estimated_consumption\"] = list(winter_est_consumption)\n"
     ]
    },
    {
     "data": {
      "image/png": "[encoded data removed]",
      "text/plain": [
       "<Figure size 640x480 with 1 Axes>"
      ]
     },
     "metadata": {},
     "output_type": "display_data"
    }
   ],
   "source": [
    "print(\"Pour l'hiver à Bourgogne-Franche-Comté :----------------------------------\")\n",
    "region=\"Bourgogne-Franche-Comté\"\n",
    "df_region=df[df.region==\"Bourgogne-Franche-Comté\"]\n",
    "df_region[\"date\"] = pd.to_datetime(df_region[\"date\"], format=\"%Y-%m-%d\")\n",
    "\n",
    "# mask\n",
    "mask = ((df_region[\"date\"].dt.month == 12) & (df_region[\"date\"].dt.day >= 22)) | \\\n",
    "       ((df_region[\"date\"].dt.month == 3) & (df_region[\"date\"].dt.day <= 21)) | \\\n",
    "       (df_region[\"date\"].dt.month == 1) | (df_region[\"date\"].dt.month == 2)\n",
    "\n",
    "# filter\n",
    "df_region_hivers = df_region[mask]\n",
    "\n",
    "mu=mean_estimator(list(df_region_hivers[\"consumption\"]))\n",
    "var=var_estimator(list(df_region_hivers[\"consumption\"]))\n",
    "stdv=stdv_estimator(list(df_region_hivers[\"consumption\"]))\n",
    "\n",
    "print(\"mu=\", mu)\n",
    "print(\"\\nVar=\", var)\n",
    "print(\"\\nsigma=\", stdv)\n",
    "print(\"--------------------------------------\")\n",
    "\n",
    "winter_est_consumption = np.random.normal(mu, stdv, df_region_hivers.shape[0])\n",
    "df_region_hivers.loc[:, \"winter_estimated_consumption\"] = list(winter_est_consumption)\n",
    "\n",
    "# density (with kde = kernel density estimation)\n",
    "sns.kdeplot(data=df_region_hivers, x=\"consumption\", label=\"Data\", color='green', fill=True)\n",
    "sns.kdeplot(data=df_region_hivers, x=\"winter_estimated_consumption\", label=\"Data_estimated\", color='blue', fill=True)\n",
    "\n",
    "plt.title(region + \" Winter Estimated Consumption (MW)\")\n",
    "plt.xlabel(\"Consumption (MW)\")\n",
    "plt.legend() \n",
    "plt.show()\n"
   ]
  },
  {
   "cell_type": "markdown",
   "id": "838fb2d1",
   "metadata": {},
   "source": [
    "## C. Statistique bayésienne"
   ]
  },
  {
   "cell_type": "markdown",
   "id": "92daddb8",
   "metadata": {},
   "source": [
    "On souhaite inclure la connaissance a priori sur l'estimation, en utilisant la statistique bayésienne.\n",
    "\n",
    "Considérez la région Bretagne en hiver. On se focalise sur la moyenne $\\mu$, en supposant que l'écart-type est connu et egal à $ \\sigma =400 MW$ . Supposons la loi a priori sur $\\mu$ avec moyenne $\\mu_0=3500MW$ et l'écart-type $\\sigma_0=500MW$.\n",
    "\n",
    "1. Donnez la loi a posteriori pour $\\mu$, en utilisant les paramètres $\\sigma$, $\\mu_0$, $\\sigma_0$ et $n$ observations $x_1,\\ldots,x_n$."
   ]
  },
  {
   "cell_type": "markdown",
   "id": "2d66e4b9",
   "metadata": {},
   "source": [
    "Votre réponse :"
   ]
  },
  {
   "cell_type": "markdown",
   "id": "98d86e3c",
   "metadata": {},
   "source": [
    "- On adopte une modelisation beyesienne pour ce probleme. Notre parametre est $\\theta=\\mu$.\n",
    "- On prend, d'apres les données : \n",
    "$$\n",
    "\\mu \\sim \\mathcal{N}(\\mu_0, \\sigma_0^2) \\\\  X|\\mu \\sim \\mathcal{N}(\\mu, \\sigma^2)\n",
    "$$\n",
    "- La loi a posteriori est définie comme suit : \n",
    "$$\n",
    "\\pi(\\mu|X) = \\frac{p_{\\mu}(X).\\pi (\\mu)}{m(X)} \\hspace{1mm} \\\\ \\alpha \\hspace{1mm} p_{\\mu}(X).\\pi (\\mu)\n",
    "$$\n",
    "avec : \n",
    "$$\n",
    "\\pi(\\mu) = \\frac{1}{\\sigma_0 \\sqrt{2\\pi}} \\exp\\left(-\\frac{(\\mu - \\mu_0)^2}{2\\sigma_0^2}\\right) \\\\\n",
    "p_{\\mu}(X=(x_1, \\ldots, x_n)) = \\frac{1}{\\sigma \\sqrt{2\\pi}} \\exp\\left(-\\frac{\\sum(x_i - \\mu)^2}{2\\sigma^2}\\right)\n",
    "$$\n",
    "Vu que les échantillons sont iid. \n",
    "- Tout calcul fait on trouve que la loi a posteriori est également une **distribution normale**, et les paramètres sont les suivants :\n",
    "\n",
    "    * Moyenne : $\\textcolor{blue}{\\mu_{\\text{post}} = \\frac{\\frac{\\sum_{i=1}^{n}x_i}{\\sigma^2} + \\frac{\\mu_0}{\\sigma_0^2}}{\\frac{n}{\\sigma^2} + \\frac{1}{\\sigma_0^2}}}$\n",
    "\n",
    "    * Variance : $\\textcolor{red}{\\sigma_{\\text{post}}^2 = \\left(\\frac{n}{\\sigma^2} + \\frac{1}{\\sigma_0^2}\\right)^{-1}}$\n",
    "\n",
    "$$\\pi(\\mu|X) \\sim \\mathcal{N}(\\mu_{post}, \\sigma_{post}^2)$$\n"
   ]
  },
  {
   "cell_type": "markdown",
   "id": "9ce2daad",
   "metadata": {},
   "source": [
    "2. Donnez les paramètres de la loi a posteriori obtenue pour chaque année de 2013 au 2023, considérée independament, dans un seul dataframe."
   ]
  },
  {
   "cell_type": "markdown",
   "id": "5af85cae",
   "metadata": {},
   "source": [
    "- **Remarque** : Vu l'ambiguité rencontré, j'ai choisi de considerer un hiver de l'année n, la période de 01 janvier n à 21 Mars n, et la période [22, 31] decembre n. "
   ]
  },
  {
   "cell_type": "code",
   "execution_count": 302,
   "id": "60fd4444",
   "metadata": {},
   "outputs": [],
   "source": [
    "#Calcul des parametre de la loi obtenue\n",
    "def moyenne(X, sigma=400, mu0=3500, sigma0=500):\n",
    "    n= len(X)\n",
    "    mu = (sum(X)/(sigma**2) + mu0/(sigma0**2))/(n/(sigma**2) + 1/(sigma0**2))\n",
    "    return mu\n",
    "\n",
    "def variance(n, sigma=400, sigma0=500):\n",
    "    return 1/(n/(sigma**2) + 1/(sigma0**2))"
   ]
  },
  {
   "cell_type": "code",
   "execution_count": 303,
   "id": "74439986",
   "metadata": {},
   "outputs": [
    {
     "name": "stderr",
     "output_type": "stream",
     "text": [
      "C:\\Users\\akilh\\AppData\\Local\\Temp\\ipykernel_9044\\1370785655.py:2: SettingWithCopyWarning: \n",
      "A value is trying to be set on a copy of a slice from a DataFrame.\n",
      "Try using .loc[row_indexer,col_indexer] = value instead\n",
      "\n",
      "See the caveats in the documentation: https://pandas.pydata.org/pandas-docs/stable/user_guide/indexing.html#returning-a-view-versus-a-copy\n",
      "  df_bretagne[\"date\"] = pd.to_datetime(df_bretagne[\"date\"], format=\"%Y-%m-%d\")\n"
     ]
    },
    {
     "data": {
      "text/html": [
       "<div>\n",
       "<style scoped>\n",
       "    .dataframe tbody tr th:only-of-type {\n",
       "        vertical-align: middle;\n",
       "    }\n",
       "\n",
       "    .dataframe tbody tr th {\n",
       "        vertical-align: top;\n",
       "    }\n",
       "\n",
       "    .dataframe thead th {\n",
       "        text-align: right;\n",
       "    }\n",
       "</style>\n",
       "<table border=\"1\" class=\"dataframe\">\n",
       "  <thead>\n",
       "    <tr style=\"text-align: right;\">\n",
       "      <th></th>\n",
       "      <th>Year</th>\n",
       "      <th>Moyenne</th>\n",
       "      <th>Variance</th>\n",
       "    </tr>\n",
       "  </thead>\n",
       "  <tbody>\n",
       "    <tr>\n",
       "      <th>0</th>\n",
       "      <td>2013</td>\n",
       "      <td>3343.413504</td>\n",
       "      <td>1765.225066</td>\n",
       "    </tr>\n",
       "    <tr>\n",
       "      <th>1</th>\n",
       "      <td>2014</td>\n",
       "      <td>3118.424537</td>\n",
       "      <td>1765.225066</td>\n",
       "    </tr>\n",
       "    <tr>\n",
       "      <th>2</th>\n",
       "      <td>2015</td>\n",
       "      <td>3167.398500</td>\n",
       "      <td>1765.225066</td>\n",
       "    </tr>\n",
       "    <tr>\n",
       "      <th>3</th>\n",
       "      <td>2016</td>\n",
       "      <td>3207.507639</td>\n",
       "      <td>1745.962462</td>\n",
       "    </tr>\n",
       "    <tr>\n",
       "      <th>4</th>\n",
       "      <td>2017</td>\n",
       "      <td>3251.224625</td>\n",
       "      <td>1765.225066</td>\n",
       "    </tr>\n",
       "    <tr>\n",
       "      <th>5</th>\n",
       "      <td>2018</td>\n",
       "      <td>3315.081642</td>\n",
       "      <td>1765.225066</td>\n",
       "    </tr>\n",
       "    <tr>\n",
       "      <th>6</th>\n",
       "      <td>2019</td>\n",
       "      <td>3195.200794</td>\n",
       "      <td>1765.225066</td>\n",
       "    </tr>\n",
       "    <tr>\n",
       "      <th>7</th>\n",
       "      <td>2020</td>\n",
       "      <td>3145.504147</td>\n",
       "      <td>1745.962462</td>\n",
       "    </tr>\n",
       "    <tr>\n",
       "      <th>8</th>\n",
       "      <td>2021</td>\n",
       "      <td>3341.946161</td>\n",
       "      <td>1765.225066</td>\n",
       "    </tr>\n",
       "    <tr>\n",
       "      <th>9</th>\n",
       "      <td>2022</td>\n",
       "      <td>3165.081642</td>\n",
       "      <td>1765.225066</td>\n",
       "    </tr>\n",
       "    <tr>\n",
       "      <th>10</th>\n",
       "      <td>2023</td>\n",
       "      <td>3117.547123</td>\n",
       "      <td>1984.126984</td>\n",
       "    </tr>\n",
       "  </tbody>\n",
       "</table>\n",
       "</div>"
      ],
      "text/plain": [
       "    Year      Moyenne     Variance\n",
       "0   2013  3343.413504  1765.225066\n",
       "1   2014  3118.424537  1765.225066\n",
       "2   2015  3167.398500  1765.225066\n",
       "3   2016  3207.507639  1745.962462\n",
       "4   2017  3251.224625  1765.225066\n",
       "5   2018  3315.081642  1765.225066\n",
       "6   2019  3195.200794  1765.225066\n",
       "7   2020  3145.504147  1745.962462\n",
       "8   2021  3341.946161  1765.225066\n",
       "9   2022  3165.081642  1765.225066\n",
       "10  2023  3117.547123  1984.126984"
      ]
     },
     "execution_count": 303,
     "metadata": {},
     "output_type": "execute_result"
    }
   ],
   "source": [
    "df_bretagne = df[df.region==\"Bretagne\"]\n",
    "df_bretagne[\"date\"] = pd.to_datetime(df_bretagne[\"date\"], format=\"%Y-%m-%d\")\n",
    "# mask\n",
    "mask = ((df_bretagne[\"date\"].dt.month == 12) & (df_bretagne[\"date\"].dt.day >= 22)) | \\\n",
    "       ((df_bretagne[\"date\"].dt.month == 3) & (df_bretagne[\"date\"].dt.day <= 21)) | \\\n",
    "       (df_bretagne[\"date\"].dt.month == 1) | (df_bretagne[\"date\"].dt.month == 2)\n",
    "\n",
    "# filter\n",
    "df_bretagne_hiver = df_bretagne[mask]\n",
    "\n",
    "years_list = range (2013, 2024)\n",
    "moyennes =[]\n",
    "variances = []\n",
    "\n",
    "for year in years_list:\n",
    "    df_bretagne_winter_per_year = df_bretagne_hiver[df_bretagne_hiver.date.dt.year==year]\n",
    "    echantillons = df_bretagne_winter_per_year[\"consumption\"]\n",
    "    moyennes.append(moyenne(echantillons))\n",
    "    variances.append(variance(len(echantillons)))\n",
    "\n",
    "loi_a_posteriori_bretagne = pd.DataFrame({\n",
    "    \"Year\": years_list,\n",
    "    \"Moyenne\": moyennes,\n",
    "    \"Variance\": variances\n",
    "})\n",
    "loi_a_posteriori_bretagne"
   ]
  },
  {
   "cell_type": "markdown",
   "id": "34e7e53f",
   "metadata": {},
   "source": [
    "3. Tracez la densité de la loi a posteriori en 2023 et le *kde* des données réelles en 2023, sur le même graphique."
   ]
  },
  {
   "cell_type": "code",
   "execution_count": 304,
   "id": "eb02344e",
   "metadata": {},
   "outputs": [
    {
     "data": {
      "image/png": "[encoded data removed]",
      "text/plain": [
       "<Figure size 640x480 with 1 Axes>"
      ]
     },
     "metadata": {},
     "output_type": "display_data"
    }
   ],
   "source": [
    "mu_2023 = loi_a_posteriori_bretagne[loi_a_posteriori_bretagne.Year ==2023][\"Moyenne\"]\n",
    "var_2023 = loi_a_posteriori_bretagne[loi_a_posteriori_bretagne.Year ==2023][\"Variance\"]\n",
    "loi_2023 = np.random.normal(mu_2023, np.sqrt(var_2023), len(df_bretagne_hiver[df_bretagne_hiver.date.dt.year == 2023]))\n",
    "\n",
    "sns.kdeplot(data=loi_2023, label=\"densité loi a posteriori\", color='blue', fill=True)\n",
    "sns.kdeplot(data= df_bretagne_hiver[df_bretagne_hiver.date.dt.year == 2023], x= \"consumption\", label=\"Real_data\", color='orange', fill=True)\n",
    "plt.legend()\n",
    "plt.show()"
   ]
  },
  {
   "cell_type": "markdown",
   "id": "34f2f990",
   "metadata": {},
   "source": [
    "4. Discutez les résultats, en les comparant avec ceux obtenus dans la partie A."
   ]
  },
  {
   "cell_type": "markdown",
   "id": "b636cd1b",
   "metadata": {},
   "source": [
    "Votre réponse :\n",
    "- **Réponse** : Remarquons que la densité de la loi a posteriori donne bien une idée sur la valeur de la moyenne de la densité des données réelles, car dans le modèle bayésien que l'on a adopté le paramètre était la valeur moyenne $\\mu$ et la loi a posteriori est la loi de cette moyenne et pas des consommations. Alors que pour l'estimation ponctuelle on avait une densité très proche de celle des valeurs réelles car le but était d'estimer les consomations directement."
   ]
  },
  {
   "cell_type": "markdown",
   "id": "fbb2395b",
   "metadata": {},
   "source": [
    "## D. Test d'hypothèse"
   ]
  },
  {
   "cell_type": "markdown",
   "id": "9829b730",
   "metadata": {},
   "source": [
    "Considérez la région Bretagne. Alors que l'écart-type en hiver est egal à 400MW, vous shouaitez tester l'hypothèse que c'était 500MW en 2023. La moyenne est supposée connue et egal à 3200MW.\n",
    "\n",
    "1. Proposez la statisque du test pour un niveau $\\alpha$."
   ]
  },
  {
   "cell_type": "markdown",
   "id": "eabddc9c",
   "metadata": {},
   "source": [
    "Votre réponse :\n",
    "Nous souhaitons tester si l'ecart-type $\\sigma = \\sigma_0 = 400 MW$ pour les echantillons de l'hiver de 2023. Alors que les echantillons en hiver suivent la loi normale : $ \\sim \\mathcal{N}(\\mu, \\sigma_1^2)\\\\$\n",
    "avec : $\\mu = 3200 MW$ et $\\sigma_1 = 500 MW \\\\$\n",
    "Donc on peut modéliser notre probleme comme :\n",
    "- $\\textcolor{blue}{\\mathbb H0 : \\{\\sigma = \\sigma_0\\}}$    $\\textbf{VS}$   $\\textcolor{red}{\\mathbb H1 : \\{\\sigma = \\sigma_1\\}}$\n",
    "Le rapport de vraisemblance est : $$Z(X) = \\frac{p_{\\sigma_1(X)}}{p_{\\sigma_0(X)}} = \\frac{\\sigma_0}{\\sigma_1}\\exp{-\\frac{\\sum{(x_i - \\mu)^2}}{2.\\frac{\\sigma_1\\sigma_0}{\\sigma_0 - \\sigma_1}}}$$\n",
    "- On pose la statistique : $$S(X) =\\sum{(x_i - \\mu)^2}$$ \n",
    "- D'apres le thm de Neymann Pearson, le test suivant est un test UPP de niveau $\\alpha$: $$\\delta^* (X) =  \\mathbb 1_{\\{Z(X) > c\\}}$$ \n",
    "Avec : $\\mathbb P_{\\sigma_0}(Z(X)>c) = \\alpha$\n",
    "\n",
    "- Z(X) est croissance par rapport à S(X) puisque $\\sigma_1 > \\sigma_0$, donc : $$\\mathbb P_{\\sigma_0}(S(X)>c') = \\alpha$$\n",
    "et le test correspondant est : $$\\delta^* (X) =  \\mathbb 1_{\\{S(X) > c'\\}}$$\n",
    "\n",
    "- Or, on peut remarquer que : $$ \\frac{S(X)}{\\sigma^2} \\sim \\chi^2(n)$$\n",
    "Car les $x_i$ sont i.i.d suivant la loi normale de moyenne $\\mu$ et de variance $\\sigma \\\\$\n",
    "\n",
    "- $$\\alpha = \\mathbb P_{\\sigma_0}(S(X)>c') =\\mathbb P_{\\sigma_0}(\\frac{S(X)}{\\sigma_0^2}>\\frac{c'}{\\sigma_0^2}) $$\n",
    "Donc on prend : $$\\frac{c'}{\\sigma_0^2} = q^{\\chi^2_n} _{1-\\alpha} \\implies c' = \\sigma_0^2 q^{\\chi^2_n} _{1- \\alpha}$$\n",
    "\n",
    "- Conclusion : On a le test statistique de quantile : $$  \\textcolor{blue}{c' =\\sigma_0^2 q^{\\chi^2_n} _{1- \\alpha}}$$"
   ]
  },
  {
   "cell_type": "markdown",
   "id": "7d66ab40",
   "metadata": {},
   "source": [
    "2. Donnez le résultat de ce test pour $\\alpha=1\\%$."
   ]
  },
  {
   "cell_type": "code",
   "execution_count": 305,
   "id": "38f77dad",
   "metadata": {},
   "outputs": [
    {
     "data": {
      "text/html": [
       "<div>\n",
       "<style scoped>\n",
       "    .dataframe tbody tr th:only-of-type {\n",
       "        vertical-align: middle;\n",
       "    }\n",
       "\n",
       "    .dataframe tbody tr th {\n",
       "        vertical-align: top;\n",
       "    }\n",
       "\n",
       "    .dataframe thead th {\n",
       "        text-align: right;\n",
       "    }\n",
       "</style>\n",
       "<table border=\"1\" class=\"dataframe\">\n",
       "  <thead>\n",
       "    <tr style=\"text-align: right;\">\n",
       "      <th></th>\n",
       "      <th>region</th>\n",
       "      <th>date</th>\n",
       "      <th>consumption</th>\n",
       "    </tr>\n",
       "  </thead>\n",
       "  <tbody>\n",
       "    <tr>\n",
       "      <th>11258</th>\n",
       "      <td>Bretagne</td>\n",
       "      <td>2023-01-01</td>\n",
       "      <td>2306</td>\n",
       "    </tr>\n",
       "    <tr>\n",
       "      <th>11259</th>\n",
       "      <td>Bretagne</td>\n",
       "      <td>2023-01-02</td>\n",
       "      <td>2702</td>\n",
       "    </tr>\n",
       "    <tr>\n",
       "      <th>11260</th>\n",
       "      <td>Bretagne</td>\n",
       "      <td>2023-01-03</td>\n",
       "      <td>3049</td>\n",
       "    </tr>\n",
       "    <tr>\n",
       "      <th>11261</th>\n",
       "      <td>Bretagne</td>\n",
       "      <td>2023-01-04</td>\n",
       "      <td>2904</td>\n",
       "    </tr>\n",
       "    <tr>\n",
       "      <th>11262</th>\n",
       "      <td>Bretagne</td>\n",
       "      <td>2023-01-05</td>\n",
       "      <td>2833</td>\n",
       "    </tr>\n",
       "    <tr>\n",
       "      <th>...</th>\n",
       "      <td>...</td>\n",
       "      <td>...</td>\n",
       "      <td>...</td>\n",
       "    </tr>\n",
       "    <tr>\n",
       "      <th>11333</th>\n",
       "      <td>Bretagne</td>\n",
       "      <td>2023-03-17</td>\n",
       "      <td>2609</td>\n",
       "    </tr>\n",
       "    <tr>\n",
       "      <th>11334</th>\n",
       "      <td>Bretagne</td>\n",
       "      <td>2023-03-18</td>\n",
       "      <td>2309</td>\n",
       "    </tr>\n",
       "    <tr>\n",
       "      <th>11335</th>\n",
       "      <td>Bretagne</td>\n",
       "      <td>2023-03-19</td>\n",
       "      <td>2206</td>\n",
       "    </tr>\n",
       "    <tr>\n",
       "      <th>11336</th>\n",
       "      <td>Bretagne</td>\n",
       "      <td>2023-03-20</td>\n",
       "      <td>2672</td>\n",
       "    </tr>\n",
       "    <tr>\n",
       "      <th>11337</th>\n",
       "      <td>Bretagne</td>\n",
       "      <td>2023-03-21</td>\n",
       "      <td>2618</td>\n",
       "    </tr>\n",
       "  </tbody>\n",
       "</table>\n",
       "<p>80 rows × 3 columns</p>\n",
       "</div>"
      ],
      "text/plain": [
       "         region       date  consumption\n",
       "11258  Bretagne 2023-01-01         2306\n",
       "11259  Bretagne 2023-01-02         2702\n",
       "11260  Bretagne 2023-01-03         3049\n",
       "11261  Bretagne 2023-01-04         2904\n",
       "11262  Bretagne 2023-01-05         2833\n",
       "...         ...        ...          ...\n",
       "11333  Bretagne 2023-03-17         2609\n",
       "11334  Bretagne 2023-03-18         2309\n",
       "11335  Bretagne 2023-03-19         2206\n",
       "11336  Bretagne 2023-03-20         2672\n",
       "11337  Bretagne 2023-03-21         2618\n",
       "\n",
       "[80 rows x 3 columns]"
      ]
     },
     "execution_count": 305,
     "metadata": {},
     "output_type": "execute_result"
    }
   ],
   "source": [
    "df_bretagne_winter_per_year"
   ]
  },
  {
   "cell_type": "code",
   "execution_count": 306,
   "id": "5e961bfd",
   "metadata": {},
   "outputs": [
    {
     "name": "stdout",
     "output_type": "stream",
     "text": [
      "Le quantile correspondant à alpha = 0.01 est 17972606.803247597\n"
     ]
    }
   ],
   "source": [
    "#Nos echantillons sont les consommations en hiver de 2023 \n",
    "echantillons = list(df_bretagne_winter_per_year[\"consumption\"])\n",
    "#les données\n",
    "sigma_0 = 400\n",
    "sigma_1 = 500\n",
    "mu = 3200\n",
    "\n",
    "#Les deux params de la quantile\n",
    "alpha = 0.01\n",
    "degre = len(echantillons)\n",
    "quantile = chi2.ppf(1-alpha, degre)*sigma_0**2\n",
    "print(f\"Le quantile correspondant à alpha = 0.01 est {quantile}\")\n",
    "\n"
   ]
  },
  {
   "cell_type": "code",
   "execution_count": 307,
   "id": "d0a7e739",
   "metadata": {},
   "outputs": [
    {
     "name": "stdout",
     "output_type": "stream",
     "text": [
      "H0 acceptée\n"
     ]
    }
   ],
   "source": [
    "#Maintenant on va voir le resultat du test :\n",
    "\n",
    "#Calculons la statistique de test \n",
    "S = sum([(x-mu)**2 for x in echantillons])\n",
    "\n",
    "def delta(S):\n",
    "    return \"H0 acceptée\" if S<quantile else \"H0 rejetée\"\n",
    "\n",
    "print(delta(S))\n",
    "\n"
   ]
  },
  {
   "cell_type": "markdown",
   "id": "a7759277",
   "metadata": {},
   "source": [
    "- L'hypothese H0 a été acceptée. Donc l'ecart type en hiver 2023 est égale à **400 MW**"
   ]
  },
  {
   "cell_type": "markdown",
   "id": "a59a2a96",
   "metadata": {},
   "source": [
    "## E. Test d'indépendence"
   ]
  },
  {
   "cell_type": "markdown",
   "id": "a71cf918",
   "metadata": {},
   "source": [
    "Considérez la consomation d'electicité en Bretagne et en Provence-Alpes-Côte d'Azur en hiver."
   ]
  },
  {
   "cell_type": "markdown",
   "id": "a7c78215",
   "metadata": {},
   "source": [
    "1. Visualisez la loi jointe de la consomation dans ces 2 régions en utilisant la librarie **seaborn**."
   ]
  },
  {
   "cell_type": "code",
   "execution_count": 308,
   "id": "29b4c335",
   "metadata": {},
   "outputs": [
    {
     "name": "stderr",
     "output_type": "stream",
     "text": [
      "C:\\Users\\akilh\\AppData\\Local\\Temp\\ipykernel_9044\\2906171304.py:2: SettingWithCopyWarning: \n",
      "A value is trying to be set on a copy of a slice from a DataFrame.\n",
      "Try using .loc[row_indexer,col_indexer] = value instead\n",
      "\n",
      "See the caveats in the documentation: https://pandas.pydata.org/pandas-docs/stable/user_guide/indexing.html#returning-a-view-versus-a-copy\n",
      "  df_PACA_hivers[\"date\"] = pd.to_datetime(df_PACA_hivers[\"date\"], format=\"%Y-%m-%d\")\n"
     ]
    }
   ],
   "source": [
    "df_PACA_hivers= df[df.region == \"Provence-Alpes-Côte d'Azur\"]\n",
    "df_PACA_hivers[\"date\"] = pd.to_datetime(df_PACA_hivers[\"date\"], format=\"%Y-%m-%d\")\n",
    "# mask\n",
    "mask = ((df_PACA_hivers[\"date\"].dt.month == 12) & (df_PACA_hivers[\"date\"].dt.day >= 22)) | \\\n",
    "       ((df_PACA_hivers[\"date\"].dt.month == 3) & (df_PACA_hivers[\"date\"].dt.day <= 21)) | \\\n",
    "       (df_PACA_hivers[\"date\"].dt.month == 1) | (df_PACA_hivers[\"date\"].dt.month == 2)\n",
    "\n",
    "# filter\n",
    "df_PACA_hivers = df_PACA_hivers[mask]\n",
    "\n",
    "bretagne_consumption = list(df_bretagne_hiver[\"consumption\"])\n",
    "PACA_consumption = list(df_PACA_hivers[\"consumption\"])\n",
    "\n",
    "data = pd.DataFrame({\"Bretagne\": bretagne_consumption,\n",
    "                      \"Provence-Alpes-Côte d'Azur\": PACA_consumption})\n"
   ]
  },
  {
   "cell_type": "code",
   "execution_count": 309,
   "id": "ae7acdb5",
   "metadata": {},
   "outputs": [
    {
     "data": {
      "image/png": "[encoded data removed]",
      "text/plain": [
       "<Figure size 600x600 with 3 Axes>"
      ]
     },
     "metadata": {},
     "output_type": "display_data"
    }
   ],
   "source": [
    "sns.jointplot(x=\"Bretagne\", y=\"Provence-Alpes-Côte d'Azur\", data=data, color=\"blue\")\n",
    "\n",
    "plt.xlabel('Consommation dans la Bretagne (MW)')\n",
    "plt.ylabel(\"Consommation dans la Provence-Alpes-Côte d'Azur (MW)\")\n",
    "plt.show()"
   ]
  },
  {
   "cell_type": "markdown",
   "id": "a30a20bc",
   "metadata": {},
   "source": [
    "2. Est-ce que vous pensez que la consomation dans ces 2 régions est indépendante ?"
   ]
  },
  {
   "cell_type": "markdown",
   "id": "bedb9130",
   "metadata": {},
   "source": [
    "Votre réponse : **Non**, on remarque qu'il y a un relation entre X et Y, les echantillons forment une eclipse qui peut être approximée a une droite. "
   ]
  },
  {
   "cell_type": "markdown",
   "id": "164f9b1c",
   "metadata": {},
   "source": [
    "3. Proposez le test du Chi-2 pour l'indépendance de la consomation dans ces deux régions pour un niveau $\\alpha$. "
   ]
  },
  {
   "cell_type": "markdown",
   "id": "f079fecb",
   "metadata": {},
   "source": [
    "Votre réponse :\n",
    "- Soient X, Y les deux variables aleatoires modelisant  les consomations en hiver successivement dans la Bretagne et dans la province Alpes.\n",
    "- On prend $A_x = \\{x_1, \\dots , x_{N_x}\\}$ de cardinal $N_x$ l'ensemble de valeurs prises par X et $A_y = \\{y_1, \\dots , y_{N_y}\\}$ de cardinal $N_y$ l'ensemble de valeurs prises par Y.\n",
    "- Soit n le nombre d'échantillons.\n",
    "- on peut modéliser notre probleme comme : $\\textcolor{blue}{\\mathbb H0 : \\{X\\ et\\ Y\\ sont\\ indépendants\\}}$    $\\textbf{VS}$   $\\textcolor{red}{\\mathbb H1 : \\{X\\ et\\ Y\\ ne\\ sont\\ pas\\ indépendants\\}}$\n",
    "- On a : pour i, j : $$ N(i, j)  = \\sum\\limits_{t=1}^{n^2} \\mathbb 1_{\\{(X,Y)_t=(x_i, y_j)\\}}$$\n",
    "- On trouve l'esperance de de N(i,j) : $$\\mathbb E[N(i,j)]= n^2 p^X_i p^Y_j,\\ avec\\ p^X_i = \\mathbb P(X= x_i)\\ et\\ p^Y_j  = \\mathbb P(Y= y_i)$$\n",
    "- On pose : $$T(X,Y) = \\sum\\limits_{i=1}^{N_x}\\sum\\limits_{i=1}^{N_y} \\frac{(N(i,j) - n^2 p^X_i p^Y_j )^2}{n^2 p^X_i p^Y_j} =\\ \\textcolor{red}{\\sum\\limits_{i=1}^{N_x}\\sum\\limits_{i=1}^{N_y}\\frac{(N(i,j) - \\frac{N_iN_j}{n})^2}{\\frac{N_iN_j}{n}}},$$\n",
    "- Pour un nombre d'échantillon n suffisament grand : $$T(X,Y) \\sim \\chi^2((N_x-1)(N_y -1))$$\n",
    "- La fonction de décision minimisant le risque est donc : $$\\textcolor{blue}{\\delta^* (X,Y) = \\mathbb 1_{\\{T(X,Y) > q^{\\chi^2(K)}(1-\\alpha)\\}}},\\ avec\\ K = (N_x-1)(N_y -1)$$\n"
   ]
  },
  {
   "cell_type": "markdown",
   "id": "50a23229",
   "metadata": {},
   "source": [
    "4. Donnez le résultat de ce test pour $\\alpha=1\\%$."
   ]
  },
  {
   "cell_type": "code",
   "execution_count": 310,
   "id": "5e744874",
   "metadata": {},
   "outputs": [
    {
     "name": "stdout",
     "output_type": "stream",
     "text": [
      "H0 rejetée : X et Y ne sont pas indépendant\n"
     ]
    }
   ],
   "source": [
    "def denombrement(liste):\n",
    "    valeurs_uniques = []\n",
    "    occurances = {}\n",
    "    for valeur in liste:\n",
    "        if valeur not in valeurs_uniques:\n",
    "            valeurs_uniques.append(valeur)\n",
    "            occurances[valeur] = 1\n",
    "        else:\n",
    "            occurances[valeur] += 1\n",
    "    return len(valeurs_uniques), occurances\n",
    "\n",
    "####Nos parametres \n",
    "\n",
    "alpha = 0.01\n",
    "Nx, pX= denombrement(bretagne_consumption)\n",
    "Ny, pY= denombrement(PACA_consumption)\n",
    "K = (Nx-1)*(Ny-1)\n",
    "n=len(bretagne_consumption)\n",
    "\n",
    "#Calculons T(X,Y)\n",
    "T = 0 \n",
    "for xi, Nxi in pX.items():\n",
    "    for yj, Nyj in pY.items():\n",
    "        T += ((Nxi*Nyj - Nxi*Nyj/n )**2)/(Nxi*Nyj/n)\n",
    "\n",
    "#calculons le quantile\n",
    "\n",
    "quantile = chi2.ppf(1-alpha, K)\n",
    "#decision\n",
    "\n",
    "decision = \"H0 est vérifiée : X et Y sont indépendant\" if T <= quantile else \"H0 rejetée : X et Y ne sont pas indépendant\"\n",
    "print(decision)\n"
   ]
  },
  {
   "cell_type": "markdown",
   "id": "ba665871",
   "metadata": {},
   "source": [
    "**Conclusion :**  $ \\textcolor{blue}{H0\\ rejetée\\ :\\ X\\ et\\ Y\\ ne\\ sont\\ pas\\ indépendants,\\ ce\\ qui\\ était\\ attendu\\ !}$"
   ]
  },
  {
   "cell_type": "markdown",
   "id": "339d7f64",
   "metadata": {},
   "source": [
    "## F. Intervalle de confiance"
   ]
  },
  {
   "cell_type": "markdown",
   "id": "1c957e74",
   "metadata": {},
   "source": [
    "Considérez la région Bretagne en hiver.\n",
    "\n",
    "1. Donnez l'intervalle de confiance pour un niveau $\\alpha=95\\%$ pour la moyenne consomation d'electricité."
   ]
  },
  {
   "cell_type": "markdown",
   "id": "4fa8d913",
   "metadata": {},
   "source": [
    "- Il s'agit d'un problème de deux paramètres:  $ \\theta = (\\mu, \\sigma^2)$, on va donc adopter une distribution de student pour trouver un intervalle [m, M] de confiance. **Il est indispensable donc d'importer la classe t de scipy.stats**"
   ]
  },
  {
   "cell_type": "markdown",
   "id": "af9147d9",
   "metadata": {},
   "source": [
    "- On a : $$ \\bar{X} = \\frac{1}{n} \\sum_{i=1}^{n} X_i $$\n",
    " On va estimer la variance avec l'estimateur non biaisé suivant : $$ V_0 = \\frac{1}{n-1} \\sum_{i=1}^{n} (X_i - \\bar{X})^2 $$\n",
    " On prend : $$Z = \\phi(X) = \\frac{\\bar{X} - \\mu}{\\sqrt{\\frac{V_0}{n}}}$$\n",
    " On a donc : $$Z\\ \\sim \\textbf{T}_{n-1}$$\n",
    " L'intervalle de confiance à un niveau $\\alpha$ est défini comme suit : $$ \\delta(X) = \\{\\mu / \\phi_{\\theta}(X) \\in A\\}, avec\\ A= [-c, c],\\ et\\ 1-\\alpha = \\mathbb P(\\phi(X) \\in A)$$\n",
    " En utilisant le quantile de la distribution de student on trouve que : $$ \\textcolor{blue}{c = q^{\\textbf{t}_{n-1}}_{\\frac{1+\\alpha}{2}}} $$\n",
    "- Notre intervalle est donc : $$ \\delta(X) = \\{\\textcolor{blue}{\\mu}\\ /\\ \\bar{X} - c.\\sqrt{\\frac{V_0}{n}} \\leq \\textcolor{blue}{\\mu} \\leq\\ \\bar{X} + c.\\sqrt{\\frac{V_0}{n}}\\} $$\n"
   ]
  },
  {
   "cell_type": "code",
   "execution_count": 311,
   "id": "cd6315e4",
   "metadata": {},
   "outputs": [
    {
     "name": "stdout",
     "output_type": "stream",
     "text": [
      "L'intervalle de confiance a un niveau alpha = 95% est : [3188.5358856463263,3239.820529832289]\n"
     ]
    }
   ],
   "source": [
    "from scipy.stats import t\n",
    "def mean_estimator(X):\n",
    "    n = len(X)\n",
    "    return sum(X) / n\n",
    "\n",
    "def Var_estimator(X):\n",
    "    n = len(X)\n",
    "    V = 0\n",
    "    X_barre = mean_estimator(X)\n",
    "    for i in range(n):\n",
    "        V += (X[i] - X_barre) ** 2\n",
    "    V = V / (n - 1)\n",
    "    return V\n",
    "\n",
    "X = list(df_bretagne_hiver[\"consumption\"])\n",
    "n= len(X)\n",
    "X_barre = mean_estimator(X)\n",
    "V0 = Var_estimator(X)\n",
    "\n",
    "alpha = 0.95\n",
    "#calculons le quantile de la distribution de student.\n",
    "quantile = t.ppf(1/2 + alpha/2, n-1)\n",
    "#L'intervalle est de la forme [m, M]\n",
    "\n",
    "m, M = X_barre - quantile*np.sqrt(V0)/np.sqrt(n), X_barre + quantile*np.sqrt(V0)/np.sqrt(n)\n",
    "\n",
    "print(f\"L'intervalle de confiance a un niveau alpha = 95% est : [{m},{M}]\")"
   ]
  },
  {
   "cell_type": "markdown",
   "id": "61d86ae3",
   "metadata": {},
   "source": [
    "**conclusion :** L'intervalle de confiance a un niveau $\\alpha$ = 95% est : $\\textcolor{blue}{[3188.5358856463263,\\ 3239.820529832289]}$"
   ]
  },
  {
   "cell_type": "markdown",
   "id": "8490c8fa",
   "metadata": {},
   "source": [
    "2. Donnez le résultat du test de Student pour un niveau $5\\%$ pour l'hypothèse null que la moyenne consomation en 2023 est egal à 3100MW."
   ]
  },
  {
   "cell_type": "markdown",
   "id": "34a74bfc",
   "metadata": {},
   "source": [
    "- Le test de student pour un niveau $\\alpha$ est le test d'hypothese correspondant à l'intervalle de confiance pour un niveau de $1 - \\alpha$. Donc on prend les données de l'hiver 2023 comme notre vecteur X, et on genere de la meme façon l'intervalle de confiance, et le test sera de verifier si $\\mu = 3100MW$ appartient à notre intervalle."
   ]
  },
  {
   "cell_type": "code",
   "execution_count": 312,
   "id": "547fb138",
   "metadata": {},
   "outputs": [
    {
     "name": "stdout",
     "output_type": "stream",
     "text": [
      "L'intervalle de confiance a un niveau alpha = 95% est : [3020.7549470871563,3208.220052912844]\n",
      "H0 acceptée : mu_2023 = 3100 MW\n"
     ]
    }
   ],
   "source": [
    "mu_2023 = 3100\n",
    "\n",
    "X= list(df_bretagne_winter_per_year[\"consumption\"])\n",
    "n=len(X)\n",
    "X_barre = mean_estimator(X)\n",
    "V = Var_estimator(X)\n",
    "\n",
    "alpha = 0.05\n",
    "\n",
    "#calculons le quantile de la distribution de student avec un degré de liberté n-1.\n",
    "quantile1 = t.ppf(1 - alpha/2, n-1)\n",
    "#L'intervalle est de la forme [m, M]\n",
    "\n",
    "m2= X_barre - quantile1*np.sqrt(V/n) \n",
    "M2= X_barre + quantile1*np.sqrt(V/n)\n",
    "\n",
    "print(f\"L'intervalle de confiance a un niveau alpha = 95% est : [{m2},{M2}]\")\n",
    "\n",
    "if mu_2023 >= m2 and mu_2023 <= M2:\n",
    "    print(f'H0 acceptée : mu_2023 = {mu_2023} MW')\n",
    "else:\n",
    "    print(f'H0 rejetée : mu_2023 != {mu_2023} MW')"
   ]
  },
  {
   "cell_type": "markdown",
   "id": "a13b9d21",
   "metadata": {},
   "source": [
    "**Conclusion :**  $ \\textcolor{blue}{H0\\ acceptée}\\ car\\ \\mu_{2023} = 3100 MW \\in [3020.7549470871563 ,\\ 3208.220052912844]$"
   ]
  },
  {
   "cell_type": "markdown",
   "id": "098c6c1a",
   "metadata": {},
   "source": []
  },
  {
   "cell_type": "code",
   "execution_count": null,
   "id": "0f690a28",
   "metadata": {},
   "outputs": [],
   "source": []
  }
 ],
 "metadata": {
  "kernelspec": {
   "display_name": "Python 3 (ipykernel)",
   "language": "python",
   "name": "python3"
  },
  "language_info": {
   "codemirror_mode": {
    "name": "ipython",
    "version": 3
   },
   "file_extension": ".py",
   "mimetype": "text/x-python",
   "name": "python",
   "nbconvert_exporter": "python",
   "pygments_lexer": "ipython3",
   "version": "3.10.11"
  }
 },
 "nbformat": 4,
 "nbformat_minor": 5
}
